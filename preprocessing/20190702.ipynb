{
 "cells": [
  {
   "cell_type": "markdown",
   "metadata": {},
   "source": [
    "# Kakao Arena 2회 대회 : 브런치 사용자를 위한 글 추천 대회"
   ]
  },
  {
   "cell_type": "markdown",
   "metadata": {},
   "source": [
    "## 데이터 EDA ipython notebook"
   ]
  },
  {
   "cell_type": "code",
   "execution_count": 1,
   "metadata": {},
   "outputs": [],
   "source": [
    "from collections import Counter\n",
    "from datetime import timedelta, datetime\n",
    "import glob\n",
    "from itertools import chain\n",
    "import json\n",
    "import os\n",
    "import re"
   ]
  },
  {
   "cell_type": "code",
   "execution_count": 2,
   "metadata": {},
   "outputs": [],
   "source": [
    "import matplotlib.pyplot as plt\n",
    "import numpy as np\n",
    "import pandas as pd\n",
    "from pandas.plotting import register_matplotlib_converters\n",
    "import seaborn as sns"
   ]
  },
  {
   "cell_type": "code",
   "execution_count": 3,
   "metadata": {},
   "outputs": [],
   "source": [
    "import matplotlib\n",
    "import matplotlib.pyplot as plt\n",
    "import matplotlib.font_manager as fm"
   ]
  },
  {
   "cell_type": "code",
   "execution_count": 4,
   "metadata": {},
   "outputs": [],
   "source": [
    "font_path = 'NanumGothic.ttf'\n",
    "font_name = fm.FontProperties(fname=font_path, size=10).get_name()\n",
    "plt.rc('font', family=font_name, size=12)\n",
    "plt.rcParams[\"figure.figsize\"] = (20, 10)\n",
    "register_matplotlib_converters()"
   ]
  },
  {
   "cell_type": "code",
   "execution_count": 5,
   "metadata": {},
   "outputs": [],
   "source": [
    "directory = 'data/'"
   ]
  },
  {
   "cell_type": "markdown",
   "metadata": {},
   "source": [
    "## 1. Data Read"
   ]
  },
  {
   "cell_type": "markdown",
   "metadata": {},
   "source": [
    "### a. Magazine.json"
   ]
  },
  {
   "cell_type": "code",
   "execution_count": 6,
   "metadata": {},
   "outputs": [],
   "source": [
    "magazine = pd.read_json(directory + 'magazine.json',lines = True)"
   ]
  },
  {
   "cell_type": "code",
   "execution_count": 7,
   "metadata": {},
   "outputs": [
    {
     "data": {
      "text/plain": [
       "(27967, 2)"
      ]
     },
     "execution_count": 7,
     "metadata": {},
     "output_type": "execute_result"
    }
   ],
   "source": [
    "magazine.shape"
   ]
  },
  {
   "cell_type": "code",
   "execution_count": 8,
   "metadata": {},
   "outputs": [
    {
     "data": {
      "text/html": [
       "<div>\n",
       "<style scoped>\n",
       "    .dataframe tbody tr th:only-of-type {\n",
       "        vertical-align: middle;\n",
       "    }\n",
       "\n",
       "    .dataframe tbody tr th {\n",
       "        vertical-align: top;\n",
       "    }\n",
       "\n",
       "    .dataframe thead th {\n",
       "        text-align: right;\n",
       "    }\n",
       "</style>\n",
       "<table border=\"1\" class=\"dataframe\">\n",
       "  <thead>\n",
       "    <tr style=\"text-align: right;\">\n",
       "      <th></th>\n",
       "      <th>id</th>\n",
       "      <th>magazine_tag_list</th>\n",
       "    </tr>\n",
       "  </thead>\n",
       "  <tbody>\n",
       "    <tr>\n",
       "      <th>0</th>\n",
       "      <td>38842</td>\n",
       "      <td>[브런치북, 육아일기, 대화법, 들려주고픈이야기]</td>\n",
       "    </tr>\n",
       "    <tr>\n",
       "      <th>1</th>\n",
       "      <td>11540</td>\n",
       "      <td>[tea, food]</td>\n",
       "    </tr>\n",
       "    <tr>\n",
       "      <th>2</th>\n",
       "      <td>11541</td>\n",
       "      <td>[food]</td>\n",
       "    </tr>\n",
       "    <tr>\n",
       "      <th>3</th>\n",
       "      <td>11546</td>\n",
       "      <td>[브런치북, 일상, 시, 사람]</td>\n",
       "    </tr>\n",
       "    <tr>\n",
       "      <th>4</th>\n",
       "      <td>11544</td>\n",
       "      <td>[감성에세이, 노래, 음악에세이]</td>\n",
       "    </tr>\n",
       "  </tbody>\n",
       "</table>\n",
       "</div>"
      ],
      "text/plain": [
       "      id            magazine_tag_list\n",
       "0  38842  [브런치북, 육아일기, 대화법, 들려주고픈이야기]\n",
       "1  11540                  [tea, food]\n",
       "2  11541                       [food]\n",
       "3  11546            [브런치북, 일상, 시, 사람]\n",
       "4  11544           [감성에세이, 노래, 음악에세이]"
      ]
     },
     "execution_count": 8,
     "metadata": {},
     "output_type": "execute_result"
    }
   ],
   "source": [
    "magazine.head()"
   ]
  },
  {
   "cell_type": "code",
   "execution_count": 9,
   "metadata": {},
   "outputs": [],
   "source": [
    "magazine.columns = ['magazine_id','magazine_tag_list']"
   ]
  },
  {
   "cell_type": "code",
   "execution_count": 10,
   "metadata": {},
   "outputs": [
    {
     "data": {
      "text/html": [
       "<div>\n",
       "<style scoped>\n",
       "    .dataframe tbody tr th:only-of-type {\n",
       "        vertical-align: middle;\n",
       "    }\n",
       "\n",
       "    .dataframe tbody tr th {\n",
       "        vertical-align: top;\n",
       "    }\n",
       "\n",
       "    .dataframe thead th {\n",
       "        text-align: right;\n",
       "    }\n",
       "</style>\n",
       "<table border=\"1\" class=\"dataframe\">\n",
       "  <thead>\n",
       "    <tr style=\"text-align: right;\">\n",
       "      <th></th>\n",
       "      <th>magazine_id</th>\n",
       "      <th>magazine_tag_list</th>\n",
       "    </tr>\n",
       "  </thead>\n",
       "  <tbody>\n",
       "    <tr>\n",
       "      <th>0</th>\n",
       "      <td>38842</td>\n",
       "      <td>[브런치북, 육아일기, 대화법, 들려주고픈이야기]</td>\n",
       "    </tr>\n",
       "    <tr>\n",
       "      <th>1</th>\n",
       "      <td>11540</td>\n",
       "      <td>[tea, food]</td>\n",
       "    </tr>\n",
       "    <tr>\n",
       "      <th>2</th>\n",
       "      <td>11541</td>\n",
       "      <td>[food]</td>\n",
       "    </tr>\n",
       "    <tr>\n",
       "      <th>3</th>\n",
       "      <td>11546</td>\n",
       "      <td>[브런치북, 일상, 시, 사람]</td>\n",
       "    </tr>\n",
       "    <tr>\n",
       "      <th>4</th>\n",
       "      <td>11544</td>\n",
       "      <td>[감성에세이, 노래, 음악에세이]</td>\n",
       "    </tr>\n",
       "  </tbody>\n",
       "</table>\n",
       "</div>"
      ],
      "text/plain": [
       "   magazine_id            magazine_tag_list\n",
       "0        38842  [브런치북, 육아일기, 대화법, 들려주고픈이야기]\n",
       "1        11540                  [tea, food]\n",
       "2        11541                       [food]\n",
       "3        11546            [브런치북, 일상, 시, 사람]\n",
       "4        11544           [감성에세이, 노래, 음악에세이]"
      ]
     },
     "execution_count": 10,
     "metadata": {},
     "output_type": "execute_result"
    }
   ],
   "source": [
    "magazine.head()"
   ]
  },
  {
   "cell_type": "markdown",
   "metadata": {},
   "source": [
    "### b. Metadata.json"
   ]
  },
  {
   "cell_type": "code",
   "execution_count": 11,
   "metadata": {},
   "outputs": [],
   "source": [
    "metadata = pd.read_json(directory + 'metadata.json', lines = True)"
   ]
  },
  {
   "cell_type": "code",
   "execution_count": 12,
   "metadata": {},
   "outputs": [
    {
     "data": {
      "text/plain": [
       "(643104, 9)"
      ]
     },
     "execution_count": 12,
     "metadata": {},
     "output_type": "execute_result"
    }
   ],
   "source": [
    "metadata.shape"
   ]
  },
  {
   "cell_type": "code",
   "execution_count": 13,
   "metadata": {},
   "outputs": [
    {
     "data": {
      "text/html": [
       "<div>\n",
       "<style scoped>\n",
       "    .dataframe tbody tr th:only-of-type {\n",
       "        vertical-align: middle;\n",
       "    }\n",
       "\n",
       "    .dataframe tbody tr th {\n",
       "        vertical-align: top;\n",
       "    }\n",
       "\n",
       "    .dataframe thead th {\n",
       "        text-align: right;\n",
       "    }\n",
       "</style>\n",
       "<table border=\"1\" class=\"dataframe\">\n",
       "  <thead>\n",
       "    <tr style=\"text-align: right;\">\n",
       "      <th></th>\n",
       "      <th>article_id</th>\n",
       "      <th>display_url</th>\n",
       "      <th>id</th>\n",
       "      <th>keyword_list</th>\n",
       "      <th>magazine_id</th>\n",
       "      <th>reg_ts</th>\n",
       "      <th>sub_title</th>\n",
       "      <th>title</th>\n",
       "      <th>user_id</th>\n",
       "    </tr>\n",
       "  </thead>\n",
       "  <tbody>\n",
       "    <tr>\n",
       "      <th>0</th>\n",
       "      <td>782</td>\n",
       "      <td>https://brunch.co.kr/@bookdb/782</td>\n",
       "      <td>@bookdb_782</td>\n",
       "      <td>[여행, 호주, 국립공원]</td>\n",
       "      <td>8982</td>\n",
       "      <td>1474944427000</td>\n",
       "      <td>세상 어디에도 없는 호주 Top 10</td>\n",
       "      <td>사진으로 옮기기에도 아까운, 리치필드 국립공원</td>\n",
       "      <td>@bookdb</td>\n",
       "    </tr>\n",
       "    <tr>\n",
       "      <th>1</th>\n",
       "      <td>81</td>\n",
       "      <td>https://brunch.co.kr/@kohwang56/81</td>\n",
       "      <td>@kohwang56_81</td>\n",
       "      <td>[목련꽃, 아지랑이, 동행]</td>\n",
       "      <td>12081</td>\n",
       "      <td>1463092749000</td>\n",
       "      <td></td>\n",
       "      <td>[시] 서러운 봄</td>\n",
       "      <td>@kohwang56</td>\n",
       "    </tr>\n",
       "    <tr>\n",
       "      <th>2</th>\n",
       "      <td>4</td>\n",
       "      <td>https://brunch.co.kr/@hannahajink/4</td>\n",
       "      <td>@hannahajink_4</td>\n",
       "      <td>[]</td>\n",
       "      <td>0</td>\n",
       "      <td>1447997287000</td>\n",
       "      <td>무엇 때문에</td>\n",
       "      <td>무엇을 위해</td>\n",
       "      <td>@hannahajink</td>\n",
       "    </tr>\n",
       "    <tr>\n",
       "      <th>3</th>\n",
       "      <td>88</td>\n",
       "      <td>https://brunch.co.kr/@bryceandjuli/88</td>\n",
       "      <td>@bryceandjuli_88</td>\n",
       "      <td>[감정, 마음, 위로]</td>\n",
       "      <td>16315</td>\n",
       "      <td>1491055161000</td>\n",
       "      <td></td>\n",
       "      <td>싫다</td>\n",
       "      <td>@bryceandjuli</td>\n",
       "    </tr>\n",
       "    <tr>\n",
       "      <th>4</th>\n",
       "      <td>34</td>\n",
       "      <td>https://brunch.co.kr/@mijeongpark/34</td>\n",
       "      <td>@mijeongpark_34</td>\n",
       "      <td>[유럽여행, 더블린, 아일랜드]</td>\n",
       "      <td>29363</td>\n",
       "      <td>1523292942000</td>\n",
       "      <td>#7. 내 친구의 집은 어디인가</td>\n",
       "      <td>Dubliner#7</td>\n",
       "      <td>@mijeongpark</td>\n",
       "    </tr>\n",
       "  </tbody>\n",
       "</table>\n",
       "</div>"
      ],
      "text/plain": [
       "   article_id                            display_url                id  \\\n",
       "0         782       https://brunch.co.kr/@bookdb/782       @bookdb_782   \n",
       "1          81     https://brunch.co.kr/@kohwang56/81     @kohwang56_81   \n",
       "2           4    https://brunch.co.kr/@hannahajink/4    @hannahajink_4   \n",
       "3          88  https://brunch.co.kr/@bryceandjuli/88  @bryceandjuli_88   \n",
       "4          34   https://brunch.co.kr/@mijeongpark/34   @mijeongpark_34   \n",
       "\n",
       "        keyword_list  magazine_id         reg_ts             sub_title  \\\n",
       "0     [여행, 호주, 국립공원]         8982  1474944427000  세상 어디에도 없는 호주 Top 10   \n",
       "1    [목련꽃, 아지랑이, 동행]        12081  1463092749000                         \n",
       "2                 []            0  1447997287000                무엇 때문에   \n",
       "3       [감정, 마음, 위로]        16315  1491055161000                         \n",
       "4  [유럽여행, 더블린, 아일랜드]        29363  1523292942000     #7. 내 친구의 집은 어디인가   \n",
       "\n",
       "                       title        user_id  \n",
       "0  사진으로 옮기기에도 아까운, 리치필드 국립공원        @bookdb  \n",
       "1                  [시] 서러운 봄     @kohwang56  \n",
       "2                     무엇을 위해   @hannahajink  \n",
       "3                         싫다  @bryceandjuli  \n",
       "4                 Dubliner#7   @mijeongpark  "
      ]
     },
     "execution_count": 13,
     "metadata": {},
     "output_type": "execute_result"
    }
   ],
   "source": [
    "metadata.head()"
   ]
  },
  {
   "cell_type": "code",
   "execution_count": 14,
   "metadata": {},
   "outputs": [],
   "source": [
    "metadata2 = metadata.copy()"
   ]
  },
  {
   "cell_type": "code",
   "execution_count": 15,
   "metadata": {},
   "outputs": [],
   "source": [
    "metadata2['reg_datetime'] = metadata2['reg_ts'].apply(lambda x : datetime.fromtimestamp(x/1000.0))\n",
    "metadata2.loc[metadata2['reg_datetime'] == metadata2['reg_datetime'].min(), 'reg_datetime'] = datetime(2090, 12, 31)\n",
    "metadata2['reg_dt'] = metadata2['reg_datetime'].dt.date\n",
    "metadata2['type'] = metadata2['magazine_id'].apply(lambda x : '개인' if x == 0.0 else '매거진')"
   ]
  },
  {
   "cell_type": "code",
   "execution_count": 16,
   "metadata": {},
   "outputs": [],
   "source": [
    "metadata2.columns = ['id', 'display_url', 'article_id', 'keyword_list', 'magazine_id', 'reg_ts', 'sub_title', 'title', 'author_id', 'reg_datetime', 'reg_dt', 'type']"
   ]
  },
  {
   "cell_type": "code",
   "execution_count": 17,
   "metadata": {
    "scrolled": true
   },
   "outputs": [
    {
     "data": {
      "text/html": [
       "<div>\n",
       "<style scoped>\n",
       "    .dataframe tbody tr th:only-of-type {\n",
       "        vertical-align: middle;\n",
       "    }\n",
       "\n",
       "    .dataframe tbody tr th {\n",
       "        vertical-align: top;\n",
       "    }\n",
       "\n",
       "    .dataframe thead th {\n",
       "        text-align: right;\n",
       "    }\n",
       "</style>\n",
       "<table border=\"1\" class=\"dataframe\">\n",
       "  <thead>\n",
       "    <tr style=\"text-align: right;\">\n",
       "      <th></th>\n",
       "      <th>id</th>\n",
       "      <th>display_url</th>\n",
       "      <th>article_id</th>\n",
       "      <th>keyword_list</th>\n",
       "      <th>magazine_id</th>\n",
       "      <th>reg_ts</th>\n",
       "      <th>sub_title</th>\n",
       "      <th>title</th>\n",
       "      <th>author_id</th>\n",
       "      <th>reg_datetime</th>\n",
       "      <th>reg_dt</th>\n",
       "      <th>type</th>\n",
       "    </tr>\n",
       "  </thead>\n",
       "  <tbody>\n",
       "    <tr>\n",
       "      <th>0</th>\n",
       "      <td>782</td>\n",
       "      <td>https://brunch.co.kr/@bookdb/782</td>\n",
       "      <td>@bookdb_782</td>\n",
       "      <td>[여행, 호주, 국립공원]</td>\n",
       "      <td>8982</td>\n",
       "      <td>1474944427000</td>\n",
       "      <td>세상 어디에도 없는 호주 Top 10</td>\n",
       "      <td>사진으로 옮기기에도 아까운, 리치필드 국립공원</td>\n",
       "      <td>@bookdb</td>\n",
       "      <td>2016-09-27 11:47:07</td>\n",
       "      <td>2016-09-27</td>\n",
       "      <td>매거진</td>\n",
       "    </tr>\n",
       "    <tr>\n",
       "      <th>1</th>\n",
       "      <td>81</td>\n",
       "      <td>https://brunch.co.kr/@kohwang56/81</td>\n",
       "      <td>@kohwang56_81</td>\n",
       "      <td>[목련꽃, 아지랑이, 동행]</td>\n",
       "      <td>12081</td>\n",
       "      <td>1463092749000</td>\n",
       "      <td></td>\n",
       "      <td>[시] 서러운 봄</td>\n",
       "      <td>@kohwang56</td>\n",
       "      <td>2016-05-13 07:39:09</td>\n",
       "      <td>2016-05-13</td>\n",
       "      <td>매거진</td>\n",
       "    </tr>\n",
       "    <tr>\n",
       "      <th>2</th>\n",
       "      <td>4</td>\n",
       "      <td>https://brunch.co.kr/@hannahajink/4</td>\n",
       "      <td>@hannahajink_4</td>\n",
       "      <td>[]</td>\n",
       "      <td>0</td>\n",
       "      <td>1447997287000</td>\n",
       "      <td>무엇 때문에</td>\n",
       "      <td>무엇을 위해</td>\n",
       "      <td>@hannahajink</td>\n",
       "      <td>2015-11-20 14:28:07</td>\n",
       "      <td>2015-11-20</td>\n",
       "      <td>개인</td>\n",
       "    </tr>\n",
       "    <tr>\n",
       "      <th>3</th>\n",
       "      <td>88</td>\n",
       "      <td>https://brunch.co.kr/@bryceandjuli/88</td>\n",
       "      <td>@bryceandjuli_88</td>\n",
       "      <td>[감정, 마음, 위로]</td>\n",
       "      <td>16315</td>\n",
       "      <td>1491055161000</td>\n",
       "      <td></td>\n",
       "      <td>싫다</td>\n",
       "      <td>@bryceandjuli</td>\n",
       "      <td>2017-04-01 22:59:21</td>\n",
       "      <td>2017-04-01</td>\n",
       "      <td>매거진</td>\n",
       "    </tr>\n",
       "    <tr>\n",
       "      <th>4</th>\n",
       "      <td>34</td>\n",
       "      <td>https://brunch.co.kr/@mijeongpark/34</td>\n",
       "      <td>@mijeongpark_34</td>\n",
       "      <td>[유럽여행, 더블린, 아일랜드]</td>\n",
       "      <td>29363</td>\n",
       "      <td>1523292942000</td>\n",
       "      <td>#7. 내 친구의 집은 어디인가</td>\n",
       "      <td>Dubliner#7</td>\n",
       "      <td>@mijeongpark</td>\n",
       "      <td>2018-04-10 01:55:42</td>\n",
       "      <td>2018-04-10</td>\n",
       "      <td>매거진</td>\n",
       "    </tr>\n",
       "  </tbody>\n",
       "</table>\n",
       "</div>"
      ],
      "text/plain": [
       "    id                            display_url        article_id  \\\n",
       "0  782       https://brunch.co.kr/@bookdb/782       @bookdb_782   \n",
       "1   81     https://brunch.co.kr/@kohwang56/81     @kohwang56_81   \n",
       "2    4    https://brunch.co.kr/@hannahajink/4    @hannahajink_4   \n",
       "3   88  https://brunch.co.kr/@bryceandjuli/88  @bryceandjuli_88   \n",
       "4   34   https://brunch.co.kr/@mijeongpark/34   @mijeongpark_34   \n",
       "\n",
       "        keyword_list  magazine_id         reg_ts             sub_title  \\\n",
       "0     [여행, 호주, 국립공원]         8982  1474944427000  세상 어디에도 없는 호주 Top 10   \n",
       "1    [목련꽃, 아지랑이, 동행]        12081  1463092749000                         \n",
       "2                 []            0  1447997287000                무엇 때문에   \n",
       "3       [감정, 마음, 위로]        16315  1491055161000                         \n",
       "4  [유럽여행, 더블린, 아일랜드]        29363  1523292942000     #7. 내 친구의 집은 어디인가   \n",
       "\n",
       "                       title      author_id        reg_datetime      reg_dt  \\\n",
       "0  사진으로 옮기기에도 아까운, 리치필드 국립공원        @bookdb 2016-09-27 11:47:07  2016-09-27   \n",
       "1                  [시] 서러운 봄     @kohwang56 2016-05-13 07:39:09  2016-05-13   \n",
       "2                     무엇을 위해   @hannahajink 2015-11-20 14:28:07  2015-11-20   \n",
       "3                         싫다  @bryceandjuli 2017-04-01 22:59:21  2017-04-01   \n",
       "4                 Dubliner#7   @mijeongpark 2018-04-10 01:55:42  2018-04-10   \n",
       "\n",
       "  type  \n",
       "0  매거진  \n",
       "1  매거진  \n",
       "2   개인  \n",
       "3  매거진  \n",
       "4  매거진  "
      ]
     },
     "execution_count": 17,
     "metadata": {},
     "output_type": "execute_result"
    }
   ],
   "source": [
    "metadata2.head()"
   ]
  },
  {
   "cell_type": "markdown",
   "metadata": {},
   "source": [
    "#### metadata + magazine"
   ]
  },
  {
   "cell_type": "code",
   "execution_count": 18,
   "metadata": {},
   "outputs": [],
   "source": [
    "meta_magazine = pd.merge(metadata2,magazine,how='left',left_on='magazine_id',right_on='magazine_id')"
   ]
  },
  {
   "cell_type": "code",
   "execution_count": 19,
   "metadata": {},
   "outputs": [
    {
     "data": {
      "text/html": [
       "<div>\n",
       "<style scoped>\n",
       "    .dataframe tbody tr th:only-of-type {\n",
       "        vertical-align: middle;\n",
       "    }\n",
       "\n",
       "    .dataframe tbody tr th {\n",
       "        vertical-align: top;\n",
       "    }\n",
       "\n",
       "    .dataframe thead th {\n",
       "        text-align: right;\n",
       "    }\n",
       "</style>\n",
       "<table border=\"1\" class=\"dataframe\">\n",
       "  <thead>\n",
       "    <tr style=\"text-align: right;\">\n",
       "      <th></th>\n",
       "      <th>id</th>\n",
       "      <th>display_url</th>\n",
       "      <th>article_id</th>\n",
       "      <th>keyword_list</th>\n",
       "      <th>magazine_id</th>\n",
       "      <th>reg_ts</th>\n",
       "      <th>sub_title</th>\n",
       "      <th>title</th>\n",
       "      <th>author_id</th>\n",
       "      <th>reg_datetime</th>\n",
       "      <th>reg_dt</th>\n",
       "      <th>type</th>\n",
       "      <th>magazine_tag_list</th>\n",
       "    </tr>\n",
       "  </thead>\n",
       "  <tbody>\n",
       "    <tr>\n",
       "      <th>0</th>\n",
       "      <td>782</td>\n",
       "      <td>https://brunch.co.kr/@bookdb/782</td>\n",
       "      <td>@bookdb_782</td>\n",
       "      <td>[여행, 호주, 국립공원]</td>\n",
       "      <td>8982</td>\n",
       "      <td>1474944427000</td>\n",
       "      <td>세상 어디에도 없는 호주 Top 10</td>\n",
       "      <td>사진으로 옮기기에도 아까운, 리치필드 국립공원</td>\n",
       "      <td>@bookdb</td>\n",
       "      <td>2016-09-27 11:47:07</td>\n",
       "      <td>2016-09-27</td>\n",
       "      <td>매거진</td>\n",
       "      <td>[책, 독서, 독서에세이]</td>\n",
       "    </tr>\n",
       "    <tr>\n",
       "      <th>1</th>\n",
       "      <td>81</td>\n",
       "      <td>https://brunch.co.kr/@kohwang56/81</td>\n",
       "      <td>@kohwang56_81</td>\n",
       "      <td>[목련꽃, 아지랑이, 동행]</td>\n",
       "      <td>12081</td>\n",
       "      <td>1463092749000</td>\n",
       "      <td></td>\n",
       "      <td>[시] 서러운 봄</td>\n",
       "      <td>@kohwang56</td>\n",
       "      <td>2016-05-13 07:39:09</td>\n",
       "      <td>2016-05-13</td>\n",
       "      <td>매거진</td>\n",
       "      <td>[사랑, 행복, 이별]</td>\n",
       "    </tr>\n",
       "    <tr>\n",
       "      <th>2</th>\n",
       "      <td>4</td>\n",
       "      <td>https://brunch.co.kr/@hannahajink/4</td>\n",
       "      <td>@hannahajink_4</td>\n",
       "      <td>[]</td>\n",
       "      <td>0</td>\n",
       "      <td>1447997287000</td>\n",
       "      <td>무엇 때문에</td>\n",
       "      <td>무엇을 위해</td>\n",
       "      <td>@hannahajink</td>\n",
       "      <td>2015-11-20 14:28:07</td>\n",
       "      <td>2015-11-20</td>\n",
       "      <td>개인</td>\n",
       "      <td>[]</td>\n",
       "    </tr>\n",
       "    <tr>\n",
       "      <th>3</th>\n",
       "      <td>88</td>\n",
       "      <td>https://brunch.co.kr/@bryceandjuli/88</td>\n",
       "      <td>@bryceandjuli_88</td>\n",
       "      <td>[감정, 마음, 위로]</td>\n",
       "      <td>16315</td>\n",
       "      <td>1491055161000</td>\n",
       "      <td></td>\n",
       "      <td>싫다</td>\n",
       "      <td>@bryceandjuli</td>\n",
       "      <td>2017-04-01 22:59:21</td>\n",
       "      <td>2017-04-01</td>\n",
       "      <td>매거진</td>\n",
       "      <td>[생각, 일기, 이야기]</td>\n",
       "    </tr>\n",
       "    <tr>\n",
       "      <th>4</th>\n",
       "      <td>34</td>\n",
       "      <td>https://brunch.co.kr/@mijeongpark/34</td>\n",
       "      <td>@mijeongpark_34</td>\n",
       "      <td>[유럽여행, 더블린, 아일랜드]</td>\n",
       "      <td>29363</td>\n",
       "      <td>1523292942000</td>\n",
       "      <td>#7. 내 친구의 집은 어디인가</td>\n",
       "      <td>Dubliner#7</td>\n",
       "      <td>@mijeongpark</td>\n",
       "      <td>2018-04-10 01:55:42</td>\n",
       "      <td>2018-04-10</td>\n",
       "      <td>매거진</td>\n",
       "      <td>[브런치북, 여행, 에세이, 시]</td>\n",
       "    </tr>\n",
       "  </tbody>\n",
       "</table>\n",
       "</div>"
      ],
      "text/plain": [
       "    id                            display_url        article_id  \\\n",
       "0  782       https://brunch.co.kr/@bookdb/782       @bookdb_782   \n",
       "1   81     https://brunch.co.kr/@kohwang56/81     @kohwang56_81   \n",
       "2    4    https://brunch.co.kr/@hannahajink/4    @hannahajink_4   \n",
       "3   88  https://brunch.co.kr/@bryceandjuli/88  @bryceandjuli_88   \n",
       "4   34   https://brunch.co.kr/@mijeongpark/34   @mijeongpark_34   \n",
       "\n",
       "        keyword_list  magazine_id         reg_ts             sub_title  \\\n",
       "0     [여행, 호주, 국립공원]         8982  1474944427000  세상 어디에도 없는 호주 Top 10   \n",
       "1    [목련꽃, 아지랑이, 동행]        12081  1463092749000                         \n",
       "2                 []            0  1447997287000                무엇 때문에   \n",
       "3       [감정, 마음, 위로]        16315  1491055161000                         \n",
       "4  [유럽여행, 더블린, 아일랜드]        29363  1523292942000     #7. 내 친구의 집은 어디인가   \n",
       "\n",
       "                       title      author_id        reg_datetime      reg_dt  \\\n",
       "0  사진으로 옮기기에도 아까운, 리치필드 국립공원        @bookdb 2016-09-27 11:47:07  2016-09-27   \n",
       "1                  [시] 서러운 봄     @kohwang56 2016-05-13 07:39:09  2016-05-13   \n",
       "2                     무엇을 위해   @hannahajink 2015-11-20 14:28:07  2015-11-20   \n",
       "3                         싫다  @bryceandjuli 2017-04-01 22:59:21  2017-04-01   \n",
       "4                 Dubliner#7   @mijeongpark 2018-04-10 01:55:42  2018-04-10   \n",
       "\n",
       "  type   magazine_tag_list  \n",
       "0  매거진      [책, 독서, 독서에세이]  \n",
       "1  매거진        [사랑, 행복, 이별]  \n",
       "2   개인                  []  \n",
       "3  매거진       [생각, 일기, 이야기]  \n",
       "4  매거진  [브런치북, 여행, 에세이, 시]  "
      ]
     },
     "execution_count": 19,
     "metadata": {},
     "output_type": "execute_result"
    }
   ],
   "source": [
    "meta_magazine.head()"
   ]
  },
  {
   "cell_type": "markdown",
   "metadata": {},
   "source": [
    "#### meta_magazine 쓸모없는 변수 제거"
   ]
  },
  {
   "cell_type": "code",
   "execution_count": 20,
   "metadata": {},
   "outputs": [],
   "source": [
    "meta_magazine2 = meta_magazine[['article_id','keyword_list','magazine_id','author_id','reg_dt','type','magazine_tag_list']]"
   ]
  },
  {
   "cell_type": "code",
   "execution_count": 21,
   "metadata": {},
   "outputs": [
    {
     "data": {
      "text/html": [
       "<div>\n",
       "<style scoped>\n",
       "    .dataframe tbody tr th:only-of-type {\n",
       "        vertical-align: middle;\n",
       "    }\n",
       "\n",
       "    .dataframe tbody tr th {\n",
       "        vertical-align: top;\n",
       "    }\n",
       "\n",
       "    .dataframe thead th {\n",
       "        text-align: right;\n",
       "    }\n",
       "</style>\n",
       "<table border=\"1\" class=\"dataframe\">\n",
       "  <thead>\n",
       "    <tr style=\"text-align: right;\">\n",
       "      <th></th>\n",
       "      <th>article_id</th>\n",
       "      <th>keyword_list</th>\n",
       "      <th>magazine_id</th>\n",
       "      <th>author_id</th>\n",
       "      <th>reg_dt</th>\n",
       "      <th>type</th>\n",
       "      <th>magazine_tag_list</th>\n",
       "    </tr>\n",
       "  </thead>\n",
       "  <tbody>\n",
       "    <tr>\n",
       "      <th>0</th>\n",
       "      <td>@bookdb_782</td>\n",
       "      <td>[여행, 호주, 국립공원]</td>\n",
       "      <td>8982</td>\n",
       "      <td>@bookdb</td>\n",
       "      <td>2016-09-27</td>\n",
       "      <td>매거진</td>\n",
       "      <td>[책, 독서, 독서에세이]</td>\n",
       "    </tr>\n",
       "    <tr>\n",
       "      <th>1</th>\n",
       "      <td>@kohwang56_81</td>\n",
       "      <td>[목련꽃, 아지랑이, 동행]</td>\n",
       "      <td>12081</td>\n",
       "      <td>@kohwang56</td>\n",
       "      <td>2016-05-13</td>\n",
       "      <td>매거진</td>\n",
       "      <td>[사랑, 행복, 이별]</td>\n",
       "    </tr>\n",
       "    <tr>\n",
       "      <th>2</th>\n",
       "      <td>@hannahajink_4</td>\n",
       "      <td>[]</td>\n",
       "      <td>0</td>\n",
       "      <td>@hannahajink</td>\n",
       "      <td>2015-11-20</td>\n",
       "      <td>개인</td>\n",
       "      <td>[]</td>\n",
       "    </tr>\n",
       "    <tr>\n",
       "      <th>3</th>\n",
       "      <td>@bryceandjuli_88</td>\n",
       "      <td>[감정, 마음, 위로]</td>\n",
       "      <td>16315</td>\n",
       "      <td>@bryceandjuli</td>\n",
       "      <td>2017-04-01</td>\n",
       "      <td>매거진</td>\n",
       "      <td>[생각, 일기, 이야기]</td>\n",
       "    </tr>\n",
       "    <tr>\n",
       "      <th>4</th>\n",
       "      <td>@mijeongpark_34</td>\n",
       "      <td>[유럽여행, 더블린, 아일랜드]</td>\n",
       "      <td>29363</td>\n",
       "      <td>@mijeongpark</td>\n",
       "      <td>2018-04-10</td>\n",
       "      <td>매거진</td>\n",
       "      <td>[브런치북, 여행, 에세이, 시]</td>\n",
       "    </tr>\n",
       "  </tbody>\n",
       "</table>\n",
       "</div>"
      ],
      "text/plain": [
       "         article_id       keyword_list  magazine_id      author_id  \\\n",
       "0       @bookdb_782     [여행, 호주, 국립공원]         8982        @bookdb   \n",
       "1     @kohwang56_81    [목련꽃, 아지랑이, 동행]        12081     @kohwang56   \n",
       "2    @hannahajink_4                 []            0   @hannahajink   \n",
       "3  @bryceandjuli_88       [감정, 마음, 위로]        16315  @bryceandjuli   \n",
       "4   @mijeongpark_34  [유럽여행, 더블린, 아일랜드]        29363   @mijeongpark   \n",
       "\n",
       "       reg_dt type   magazine_tag_list  \n",
       "0  2016-09-27  매거진      [책, 독서, 독서에세이]  \n",
       "1  2016-05-13  매거진        [사랑, 행복, 이별]  \n",
       "2  2015-11-20   개인                  []  \n",
       "3  2017-04-01  매거진       [생각, 일기, 이야기]  \n",
       "4  2018-04-10  매거진  [브런치북, 여행, 에세이, 시]  "
      ]
     },
     "execution_count": 21,
     "metadata": {},
     "output_type": "execute_result"
    }
   ],
   "source": [
    "meta_magazine2.head()"
   ]
  },
  {
   "cell_type": "code",
   "execution_count": 23,
   "metadata": {},
   "outputs": [
    {
     "name": "stderr",
     "output_type": "stream",
     "text": [
      "C:\\ProgramData\\Anaconda3\\lib\\site-packages\\ipykernel_launcher.py:1: SettingWithCopyWarning: \n",
      "A value is trying to be set on a copy of a slice from a DataFrame.\n",
      "Try using .loc[row_indexer,col_indexer] = value instead\n",
      "\n",
      "See the caveats in the documentation: http://pandas.pydata.org/pandas-docs/stable/indexing.html#indexing-view-versus-copy\n",
      "  \"\"\"Entry point for launching an IPython kernel.\n"
     ]
    }
   ],
   "source": [
    "meta_magazine2['tag_list'] = meta_magazine2['keyword_list'] + meta_magazine2['magazine_tag_list']"
   ]
  },
  {
   "cell_type": "code",
   "execution_count": 24,
   "metadata": {},
   "outputs": [
    {
     "data": {
      "text/html": [
       "<div>\n",
       "<style scoped>\n",
       "    .dataframe tbody tr th:only-of-type {\n",
       "        vertical-align: middle;\n",
       "    }\n",
       "\n",
       "    .dataframe tbody tr th {\n",
       "        vertical-align: top;\n",
       "    }\n",
       "\n",
       "    .dataframe thead th {\n",
       "        text-align: right;\n",
       "    }\n",
       "</style>\n",
       "<table border=\"1\" class=\"dataframe\">\n",
       "  <thead>\n",
       "    <tr style=\"text-align: right;\">\n",
       "      <th></th>\n",
       "      <th>article_id</th>\n",
       "      <th>keyword_list</th>\n",
       "      <th>magazine_id</th>\n",
       "      <th>author_id</th>\n",
       "      <th>reg_dt</th>\n",
       "      <th>type</th>\n",
       "      <th>magazine_tag_list</th>\n",
       "      <th>tag_list</th>\n",
       "    </tr>\n",
       "  </thead>\n",
       "  <tbody>\n",
       "    <tr>\n",
       "      <th>0</th>\n",
       "      <td>@bookdb_782</td>\n",
       "      <td>[여행, 호주, 국립공원]</td>\n",
       "      <td>8982</td>\n",
       "      <td>@bookdb</td>\n",
       "      <td>2016-09-27</td>\n",
       "      <td>매거진</td>\n",
       "      <td>[책, 독서, 독서에세이]</td>\n",
       "      <td>[여행, 호주, 국립공원, 책, 독서, 독서에세이]</td>\n",
       "    </tr>\n",
       "    <tr>\n",
       "      <th>1</th>\n",
       "      <td>@kohwang56_81</td>\n",
       "      <td>[목련꽃, 아지랑이, 동행]</td>\n",
       "      <td>12081</td>\n",
       "      <td>@kohwang56</td>\n",
       "      <td>2016-05-13</td>\n",
       "      <td>매거진</td>\n",
       "      <td>[사랑, 행복, 이별]</td>\n",
       "      <td>[목련꽃, 아지랑이, 동행, 사랑, 행복, 이별]</td>\n",
       "    </tr>\n",
       "    <tr>\n",
       "      <th>2</th>\n",
       "      <td>@hannahajink_4</td>\n",
       "      <td>[]</td>\n",
       "      <td>0</td>\n",
       "      <td>@hannahajink</td>\n",
       "      <td>2015-11-20</td>\n",
       "      <td>개인</td>\n",
       "      <td>[]</td>\n",
       "      <td>[]</td>\n",
       "    </tr>\n",
       "    <tr>\n",
       "      <th>3</th>\n",
       "      <td>@bryceandjuli_88</td>\n",
       "      <td>[감정, 마음, 위로]</td>\n",
       "      <td>16315</td>\n",
       "      <td>@bryceandjuli</td>\n",
       "      <td>2017-04-01</td>\n",
       "      <td>매거진</td>\n",
       "      <td>[생각, 일기, 이야기]</td>\n",
       "      <td>[감정, 마음, 위로, 생각, 일기, 이야기]</td>\n",
       "    </tr>\n",
       "    <tr>\n",
       "      <th>4</th>\n",
       "      <td>@mijeongpark_34</td>\n",
       "      <td>[유럽여행, 더블린, 아일랜드]</td>\n",
       "      <td>29363</td>\n",
       "      <td>@mijeongpark</td>\n",
       "      <td>2018-04-10</td>\n",
       "      <td>매거진</td>\n",
       "      <td>[브런치북, 여행, 에세이, 시]</td>\n",
       "      <td>[유럽여행, 더블린, 아일랜드, 브런치북, 여행, 에세이, 시]</td>\n",
       "    </tr>\n",
       "  </tbody>\n",
       "</table>\n",
       "</div>"
      ],
      "text/plain": [
       "         article_id       keyword_list  magazine_id      author_id  \\\n",
       "0       @bookdb_782     [여행, 호주, 국립공원]         8982        @bookdb   \n",
       "1     @kohwang56_81    [목련꽃, 아지랑이, 동행]        12081     @kohwang56   \n",
       "2    @hannahajink_4                 []            0   @hannahajink   \n",
       "3  @bryceandjuli_88       [감정, 마음, 위로]        16315  @bryceandjuli   \n",
       "4   @mijeongpark_34  [유럽여행, 더블린, 아일랜드]        29363   @mijeongpark   \n",
       "\n",
       "       reg_dt type   magazine_tag_list                             tag_list  \n",
       "0  2016-09-27  매거진      [책, 독서, 독서에세이]         [여행, 호주, 국립공원, 책, 독서, 독서에세이]  \n",
       "1  2016-05-13  매거진        [사랑, 행복, 이별]          [목련꽃, 아지랑이, 동행, 사랑, 행복, 이별]  \n",
       "2  2015-11-20   개인                  []                                   []  \n",
       "3  2017-04-01  매거진       [생각, 일기, 이야기]            [감정, 마음, 위로, 생각, 일기, 이야기]  \n",
       "4  2018-04-10  매거진  [브런치북, 여행, 에세이, 시]  [유럽여행, 더블린, 아일랜드, 브런치북, 여행, 에세이, 시]  "
      ]
     },
     "execution_count": 24,
     "metadata": {},
     "output_type": "execute_result"
    }
   ],
   "source": [
    "meta_magazine2.head()"
   ]
  },
  {
   "cell_type": "code",
   "execution_count": 29,
   "metadata": {},
   "outputs": [],
   "source": [
    "meta_maga = meta_magazine2[['article_id','author_id','reg_dt','type','tag_list']]"
   ]
  },
  {
   "cell_type": "code",
   "execution_count": 30,
   "metadata": {},
   "outputs": [
    {
     "data": {
      "text/html": [
       "<div>\n",
       "<style scoped>\n",
       "    .dataframe tbody tr th:only-of-type {\n",
       "        vertical-align: middle;\n",
       "    }\n",
       "\n",
       "    .dataframe tbody tr th {\n",
       "        vertical-align: top;\n",
       "    }\n",
       "\n",
       "    .dataframe thead th {\n",
       "        text-align: right;\n",
       "    }\n",
       "</style>\n",
       "<table border=\"1\" class=\"dataframe\">\n",
       "  <thead>\n",
       "    <tr style=\"text-align: right;\">\n",
       "      <th></th>\n",
       "      <th>article_id</th>\n",
       "      <th>author_id</th>\n",
       "      <th>reg_dt</th>\n",
       "      <th>type</th>\n",
       "      <th>tag_list</th>\n",
       "    </tr>\n",
       "  </thead>\n",
       "  <tbody>\n",
       "    <tr>\n",
       "      <th>0</th>\n",
       "      <td>@bookdb_782</td>\n",
       "      <td>@bookdb</td>\n",
       "      <td>2016-09-27</td>\n",
       "      <td>매거진</td>\n",
       "      <td>[여행, 호주, 국립공원, 책, 독서, 독서에세이]</td>\n",
       "    </tr>\n",
       "    <tr>\n",
       "      <th>1</th>\n",
       "      <td>@kohwang56_81</td>\n",
       "      <td>@kohwang56</td>\n",
       "      <td>2016-05-13</td>\n",
       "      <td>매거진</td>\n",
       "      <td>[목련꽃, 아지랑이, 동행, 사랑, 행복, 이별]</td>\n",
       "    </tr>\n",
       "    <tr>\n",
       "      <th>2</th>\n",
       "      <td>@hannahajink_4</td>\n",
       "      <td>@hannahajink</td>\n",
       "      <td>2015-11-20</td>\n",
       "      <td>개인</td>\n",
       "      <td>[]</td>\n",
       "    </tr>\n",
       "    <tr>\n",
       "      <th>3</th>\n",
       "      <td>@bryceandjuli_88</td>\n",
       "      <td>@bryceandjuli</td>\n",
       "      <td>2017-04-01</td>\n",
       "      <td>매거진</td>\n",
       "      <td>[감정, 마음, 위로, 생각, 일기, 이야기]</td>\n",
       "    </tr>\n",
       "    <tr>\n",
       "      <th>4</th>\n",
       "      <td>@mijeongpark_34</td>\n",
       "      <td>@mijeongpark</td>\n",
       "      <td>2018-04-10</td>\n",
       "      <td>매거진</td>\n",
       "      <td>[유럽여행, 더블린, 아일랜드, 브런치북, 여행, 에세이, 시]</td>\n",
       "    </tr>\n",
       "  </tbody>\n",
       "</table>\n",
       "</div>"
      ],
      "text/plain": [
       "         article_id      author_id      reg_dt type  \\\n",
       "0       @bookdb_782        @bookdb  2016-09-27  매거진   \n",
       "1     @kohwang56_81     @kohwang56  2016-05-13  매거진   \n",
       "2    @hannahajink_4   @hannahajink  2015-11-20   개인   \n",
       "3  @bryceandjuli_88  @bryceandjuli  2017-04-01  매거진   \n",
       "4   @mijeongpark_34   @mijeongpark  2018-04-10  매거진   \n",
       "\n",
       "                              tag_list  \n",
       "0         [여행, 호주, 국립공원, 책, 독서, 독서에세이]  \n",
       "1          [목련꽃, 아지랑이, 동행, 사랑, 행복, 이별]  \n",
       "2                                   []  \n",
       "3            [감정, 마음, 위로, 생각, 일기, 이야기]  \n",
       "4  [유럽여행, 더블린, 아일랜드, 브런치북, 여행, 에세이, 시]  "
      ]
     },
     "execution_count": 30,
     "metadata": {},
     "output_type": "execute_result"
    }
   ],
   "source": [
    "meta_maga.head()"
   ]
  },
  {
   "cell_type": "code",
   "execution_count": 31,
   "metadata": {
    "scrolled": true
   },
   "outputs": [
    {
     "data": {
      "text/html": [
       "<div>\n",
       "<style scoped>\n",
       "    .dataframe tbody tr th:only-of-type {\n",
       "        vertical-align: middle;\n",
       "    }\n",
       "\n",
       "    .dataframe tbody tr th {\n",
       "        vertical-align: top;\n",
       "    }\n",
       "\n",
       "    .dataframe thead th {\n",
       "        text-align: right;\n",
       "    }\n",
       "</style>\n",
       "<table border=\"1\" class=\"dataframe\">\n",
       "  <thead>\n",
       "    <tr style=\"text-align: right;\">\n",
       "      <th></th>\n",
       "      <th>article_id</th>\n",
       "      <th>author_id</th>\n",
       "      <th>reg_dt</th>\n",
       "      <th>type</th>\n",
       "      <th>tag_list</th>\n",
       "    </tr>\n",
       "  </thead>\n",
       "  <tbody>\n",
       "    <tr>\n",
       "      <th>643099</th>\n",
       "      <td>@uxstar_24</td>\n",
       "      <td>@uxstar</td>\n",
       "      <td>2019-03-25</td>\n",
       "      <td>매거진</td>\n",
       "      <td>[3D, UI, 제스처, IT, UX, UI]</td>\n",
       "    </tr>\n",
       "    <tr>\n",
       "      <th>643100</th>\n",
       "      <td>@reading15m_575</td>\n",
       "      <td>@reading15m</td>\n",
       "      <td>2018-10-31</td>\n",
       "      <td>매거진</td>\n",
       "      <td>[독서모임, 경험수집, 글쓰기, 경험, 기회, 잡화점]</td>\n",
       "    </tr>\n",
       "    <tr>\n",
       "      <th>643101</th>\n",
       "      <td>@hje3884_118</td>\n",
       "      <td>@hje3884</td>\n",
       "      <td>2017-11-06</td>\n",
       "      <td>매거진</td>\n",
       "      <td>[생각, 에세이, 괴로움, 브런치북, 사랑, 에세이, 감성에세이]</td>\n",
       "    </tr>\n",
       "    <tr>\n",
       "      <th>643102</th>\n",
       "      <td>@julieleekgep_12</td>\n",
       "      <td>@julieleekgep</td>\n",
       "      <td>2018-10-31</td>\n",
       "      <td>매거진</td>\n",
       "      <td>[여행, 유럽여행, 리스본, 유럽여행, 포르투갈, 포르투갈여행]</td>\n",
       "    </tr>\n",
       "    <tr>\n",
       "      <th>643103</th>\n",
       "      <td>@julieleekgep_13</td>\n",
       "      <td>@julieleekgep</td>\n",
       "      <td>2018-11-01</td>\n",
       "      <td>매거진</td>\n",
       "      <td>[리스본, 여행, 유럽, 유럽여행, 포르투갈, 포르투갈여행]</td>\n",
       "    </tr>\n",
       "  </tbody>\n",
       "</table>\n",
       "</div>"
      ],
      "text/plain": [
       "              article_id      author_id      reg_dt type  \\\n",
       "643099        @uxstar_24        @uxstar  2019-03-25  매거진   \n",
       "643100   @reading15m_575    @reading15m  2018-10-31  매거진   \n",
       "643101      @hje3884_118       @hje3884  2017-11-06  매거진   \n",
       "643102  @julieleekgep_12  @julieleekgep  2018-10-31  매거진   \n",
       "643103  @julieleekgep_13  @julieleekgep  2018-11-01  매거진   \n",
       "\n",
       "                                    tag_list  \n",
       "643099             [3D, UI, 제스처, IT, UX, UI]  \n",
       "643100        [독서모임, 경험수집, 글쓰기, 경험, 기회, 잡화점]  \n",
       "643101  [생각, 에세이, 괴로움, 브런치북, 사랑, 에세이, 감성에세이]  \n",
       "643102   [여행, 유럽여행, 리스본, 유럽여행, 포르투갈, 포르투갈여행]  \n",
       "643103     [리스본, 여행, 유럽, 유럽여행, 포르투갈, 포르투갈여행]  "
      ]
     },
     "execution_count": 31,
     "metadata": {},
     "output_type": "execute_result"
    }
   ],
   "source": [
    "meta_maga.tail()"
   ]
  },
  {
   "cell_type": "code",
   "execution_count": 43,
   "metadata": {},
   "outputs": [],
   "source": [
    "import datetime"
   ]
  },
  {
   "cell_type": "code",
   "execution_count": 49,
   "metadata": {},
   "outputs": [
    {
     "data": {
      "text/plain": [
       "datetime.date(2016, 9, 27)"
      ]
     },
     "execution_count": 49,
     "metadata": {},
     "output_type": "execute_result"
    }
   ],
   "source": [
    "meta_maga['reg_dt'][0]"
   ]
  },
  {
   "cell_type": "code",
   "execution_count": 50,
   "metadata": {},
   "outputs": [
    {
     "data": {
      "text/plain": [
       "datetime.date(2090, 12, 31)"
      ]
     },
     "execution_count": 50,
     "metadata": {},
     "output_type": "execute_result"
    }
   ],
   "source": [
    "dt1 = datetime.date(2090,12,31)\n",
    "dt1"
   ]
  },
  {
   "cell_type": "code",
   "execution_count": 51,
   "metadata": {},
   "outputs": [
    {
     "data": {
      "text/plain": [
       "129"
      ]
     },
     "execution_count": 51,
     "metadata": {},
     "output_type": "execute_result"
    }
   ],
   "source": [
    "sum(meta_maga['reg_dt'] == dt1)"
   ]
  },
  {
   "cell_type": "markdown",
   "metadata": {},
   "source": [
    "### c. Users.json"
   ]
  },
  {
   "cell_type": "code",
   "execution_count": 15,
   "metadata": {},
   "outputs": [],
   "source": [
    "users = pd.read_json(directory + 'users.json', lines = True)"
   ]
  },
  {
   "cell_type": "code",
   "execution_count": 16,
   "metadata": {},
   "outputs": [
    {
     "data": {
      "text/plain": [
       "(310758, 3)"
      ]
     },
     "execution_count": 16,
     "metadata": {},
     "output_type": "execute_result"
    }
   ],
   "source": [
    "users.shape"
   ]
  },
  {
   "cell_type": "code",
   "execution_count": 75,
   "metadata": {},
   "outputs": [
    {
     "data": {
      "text/html": [
       "<div>\n",
       "<style scoped>\n",
       "    .dataframe tbody tr th:only-of-type {\n",
       "        vertical-align: middle;\n",
       "    }\n",
       "\n",
       "    .dataframe tbody tr th {\n",
       "        vertical-align: top;\n",
       "    }\n",
       "\n",
       "    .dataframe thead th {\n",
       "        text-align: right;\n",
       "    }\n",
       "</style>\n",
       "<table border=\"1\" class=\"dataframe\">\n",
       "  <thead>\n",
       "    <tr style=\"text-align: right;\">\n",
       "      <th></th>\n",
       "      <th>following_list</th>\n",
       "      <th>user_id</th>\n",
       "      <th>keyword_list2</th>\n",
       "    </tr>\n",
       "  </thead>\n",
       "  <tbody>\n",
       "    <tr>\n",
       "      <th>0</th>\n",
       "      <td>[@perytail, @brunch]</td>\n",
       "      <td>#901985d8bc4c481805c4a4f911814c4a</td>\n",
       "      <td>[]</td>\n",
       "    </tr>\n",
       "    <tr>\n",
       "      <th>1</th>\n",
       "      <td>[@holidaymemories, @wadiz, @sciforus, @dailydu...</td>\n",
       "      <td>#1fd89e9dcfa64b45020d9eaca54e0eed</td>\n",
       "      <td>[]</td>\n",
       "    </tr>\n",
       "    <tr>\n",
       "      <th>2</th>\n",
       "      <td>[@commerceguy, @sunsutu, @kakao-it, @joohoonja...</td>\n",
       "      <td>#1d94baaea71a831e1f33e1c6bd126ed5</td>\n",
       "      <td>[]</td>\n",
       "    </tr>\n",
       "    <tr>\n",
       "      <th>3</th>\n",
       "      <td>[@amberjeon48, @forsy20, @nemotokki, @hawann, ...</td>\n",
       "      <td>#04641c01892b12dc018b1410e4928c0d</td>\n",
       "      <td>[]</td>\n",
       "    </tr>\n",
       "    <tr>\n",
       "      <th>4</th>\n",
       "      <td>[@dwcha7342, @iammento, @kakao-it, @dkam, @ant...</td>\n",
       "      <td>#65bcaff862aadff877e461f54187ab62</td>\n",
       "      <td>[]</td>\n",
       "    </tr>\n",
       "    <tr>\n",
       "      <th>5</th>\n",
       "      <td>[@jumi710, @hana8277, @katarun, @brunch3woz, @...</td>\n",
       "      <td>#1a2b23b6332137193be79d297409befb</td>\n",
       "      <td>[]</td>\n",
       "    </tr>\n",
       "    <tr>\n",
       "      <th>6</th>\n",
       "      <td>[@gabrieljmh, @megaonic, @cleancode, @simu-loo...</td>\n",
       "      <td>#d07b31cfd62b7097837eee6b8328e077</td>\n",
       "      <td>[{'cnt': 1, 'keyword': '200일 이벤트'}, {'cnt': 2,...</td>\n",
       "    </tr>\n",
       "    <tr>\n",
       "      <th>7</th>\n",
       "      <td>[@potatohands, @ggpodori, @chae-pulib, @roysda...</td>\n",
       "      <td>#a6f7a5ff90a19ec4d583f0db1836844d</td>\n",
       "      <td>[]</td>\n",
       "    </tr>\n",
       "    <tr>\n",
       "      <th>8</th>\n",
       "      <td>[@rmk011, @unitasbrand, @libraryman, @thewater...</td>\n",
       "      <td>#13b3009a8698e9d5e892534d9dcdac62</td>\n",
       "      <td>[]</td>\n",
       "    </tr>\n",
       "    <tr>\n",
       "      <th>9</th>\n",
       "      <td>[@megustastu, @hongmilmil, @keeuyo, @21mission...</td>\n",
       "      <td>#ba94e11de7e31b606d7a1c8051dba02e</td>\n",
       "      <td>[]</td>\n",
       "    </tr>\n",
       "  </tbody>\n",
       "</table>\n",
       "</div>"
      ],
      "text/plain": [
       "                                      following_list  \\\n",
       "0                               [@perytail, @brunch]   \n",
       "1  [@holidaymemories, @wadiz, @sciforus, @dailydu...   \n",
       "2  [@commerceguy, @sunsutu, @kakao-it, @joohoonja...   \n",
       "3  [@amberjeon48, @forsy20, @nemotokki, @hawann, ...   \n",
       "4  [@dwcha7342, @iammento, @kakao-it, @dkam, @ant...   \n",
       "5  [@jumi710, @hana8277, @katarun, @brunch3woz, @...   \n",
       "6  [@gabrieljmh, @megaonic, @cleancode, @simu-loo...   \n",
       "7  [@potatohands, @ggpodori, @chae-pulib, @roysda...   \n",
       "8  [@rmk011, @unitasbrand, @libraryman, @thewater...   \n",
       "9  [@megustastu, @hongmilmil, @keeuyo, @21mission...   \n",
       "\n",
       "                             user_id  \\\n",
       "0  #901985d8bc4c481805c4a4f911814c4a   \n",
       "1  #1fd89e9dcfa64b45020d9eaca54e0eed   \n",
       "2  #1d94baaea71a831e1f33e1c6bd126ed5   \n",
       "3  #04641c01892b12dc018b1410e4928c0d   \n",
       "4  #65bcaff862aadff877e461f54187ab62   \n",
       "5  #1a2b23b6332137193be79d297409befb   \n",
       "6  #d07b31cfd62b7097837eee6b8328e077   \n",
       "7  #a6f7a5ff90a19ec4d583f0db1836844d   \n",
       "8  #13b3009a8698e9d5e892534d9dcdac62   \n",
       "9  #ba94e11de7e31b606d7a1c8051dba02e   \n",
       "\n",
       "                                       keyword_list2  \n",
       "0                                                 []  \n",
       "1                                                 []  \n",
       "2                                                 []  \n",
       "3                                                 []  \n",
       "4                                                 []  \n",
       "5                                                 []  \n",
       "6  [{'cnt': 1, 'keyword': '200일 이벤트'}, {'cnt': 2,...  \n",
       "7                                                 []  \n",
       "8                                                 []  \n",
       "9                                                 []  "
      ]
     },
     "execution_count": 75,
     "metadata": {},
     "output_type": "execute_result"
    }
   ],
   "source": [
    "users.head(10)"
   ]
  },
  {
   "cell_type": "code",
   "execution_count": 46,
   "metadata": {},
   "outputs": [],
   "source": [
    "users.columns = ['following_list','user_id','keyword_list2']"
   ]
  },
  {
   "cell_type": "code",
   "execution_count": 47,
   "metadata": {},
   "outputs": [
    {
     "data": {
      "text/html": [
       "<div>\n",
       "<style scoped>\n",
       "    .dataframe tbody tr th:only-of-type {\n",
       "        vertical-align: middle;\n",
       "    }\n",
       "\n",
       "    .dataframe tbody tr th {\n",
       "        vertical-align: top;\n",
       "    }\n",
       "\n",
       "    .dataframe thead th {\n",
       "        text-align: right;\n",
       "    }\n",
       "</style>\n",
       "<table border=\"1\" class=\"dataframe\">\n",
       "  <thead>\n",
       "    <tr style=\"text-align: right;\">\n",
       "      <th></th>\n",
       "      <th>following_list</th>\n",
       "      <th>user_id</th>\n",
       "      <th>keyword_list2</th>\n",
       "    </tr>\n",
       "  </thead>\n",
       "  <tbody>\n",
       "    <tr>\n",
       "      <th>0</th>\n",
       "      <td>[@perytail, @brunch]</td>\n",
       "      <td>#901985d8bc4c481805c4a4f911814c4a</td>\n",
       "      <td>[]</td>\n",
       "    </tr>\n",
       "    <tr>\n",
       "      <th>1</th>\n",
       "      <td>[@holidaymemories, @wadiz, @sciforus, @dailydu...</td>\n",
       "      <td>#1fd89e9dcfa64b45020d9eaca54e0eed</td>\n",
       "      <td>[]</td>\n",
       "    </tr>\n",
       "    <tr>\n",
       "      <th>2</th>\n",
       "      <td>[@commerceguy, @sunsutu, @kakao-it, @joohoonja...</td>\n",
       "      <td>#1d94baaea71a831e1f33e1c6bd126ed5</td>\n",
       "      <td>[]</td>\n",
       "    </tr>\n",
       "    <tr>\n",
       "      <th>3</th>\n",
       "      <td>[@amberjeon48, @forsy20, @nemotokki, @hawann, ...</td>\n",
       "      <td>#04641c01892b12dc018b1410e4928c0d</td>\n",
       "      <td>[]</td>\n",
       "    </tr>\n",
       "    <tr>\n",
       "      <th>4</th>\n",
       "      <td>[@dwcha7342, @iammento, @kakao-it, @dkam, @ant...</td>\n",
       "      <td>#65bcaff862aadff877e461f54187ab62</td>\n",
       "      <td>[]</td>\n",
       "    </tr>\n",
       "  </tbody>\n",
       "</table>\n",
       "</div>"
      ],
      "text/plain": [
       "                                      following_list  \\\n",
       "0                               [@perytail, @brunch]   \n",
       "1  [@holidaymemories, @wadiz, @sciforus, @dailydu...   \n",
       "2  [@commerceguy, @sunsutu, @kakao-it, @joohoonja...   \n",
       "3  [@amberjeon48, @forsy20, @nemotokki, @hawann, ...   \n",
       "4  [@dwcha7342, @iammento, @kakao-it, @dkam, @ant...   \n",
       "\n",
       "                             user_id keyword_list2  \n",
       "0  #901985d8bc4c481805c4a4f911814c4a            []  \n",
       "1  #1fd89e9dcfa64b45020d9eaca54e0eed            []  \n",
       "2  #1d94baaea71a831e1f33e1c6bd126ed5            []  \n",
       "3  #04641c01892b12dc018b1410e4928c0d            []  \n",
       "4  #65bcaff862aadff877e461f54187ab62            []  "
      ]
     },
     "execution_count": 47,
     "metadata": {},
     "output_type": "execute_result"
    }
   ],
   "source": [
    "users.head()"
   ]
  },
  {
   "cell_type": "code",
   "execution_count": 77,
   "metadata": {},
   "outputs": [
    {
     "data": {
      "text/plain": [
       "310758"
      ]
     },
     "execution_count": 77,
     "metadata": {},
     "output_type": "execute_result"
    }
   ],
   "source": [
    "len(users['user_id'].unique())"
   ]
  },
  {
   "cell_type": "markdown",
   "metadata": {},
   "source": [
    "### d. Read Files"
   ]
  },
  {
   "cell_type": "code",
   "execution_count": 52,
   "metadata": {},
   "outputs": [],
   "source": [
    "read_file_lst = glob.glob('data/read/*')"
   ]
  },
  {
   "cell_type": "code",
   "execution_count": 54,
   "metadata": {},
   "outputs": [],
   "source": [
    "exclude_file_lst = ['read.tar']"
   ]
  },
  {
   "cell_type": "code",
   "execution_count": 133,
   "metadata": {},
   "outputs": [],
   "source": [
    "read_df_lst = []\n",
    "for f in read_file_lst:\n",
    "    file_name = os.path.basename(f)\n",
    "    if file_name in exclude_file_lst:\n",
    "        print(file_name)\n",
    "    else:\n",
    "        df_temp = pd.read_csv(f, header=None, names=['raw'])\n",
    "        first = pd.DataFrame(df_temp['raw'].str.split(' #').str[0])\n",
    "        second = pd.DataFrame('#' + df_temp['raw'].str.split(' #').str[1][df_temp['raw'].str.split(' #').str[1].notnull()])\n",
    "        df_temp = pd.DataFrame()\n",
    "        df_temp = df_temp.append(first)\n",
    "        df_temp = df_temp.append(second)\n",
    "        df_temp['dt'] = file_name[:8]\n",
    "        df_temp['hr'] = file_name[8:10]\n",
    "        df_temp['user_id'] = df_temp['raw'].str.split(' ').str[0]\n",
    "        df_temp['article_id'] = df_temp['raw'].str.split(' ').str[1:].str.join(' ').str.strip()\n",
    "        read_df_lst.append(df_temp)"
   ]
  },
  {
   "cell_type": "code",
   "execution_count": 134,
   "metadata": {},
   "outputs": [],
   "source": [
    "read = pd.concat(read_df_lst)"
   ]
  },
  {
   "cell_type": "code",
   "execution_count": 135,
   "metadata": {},
   "outputs": [
    {
     "data": {
      "text/plain": [
       "(3548447, 5)"
      ]
     },
     "execution_count": 135,
     "metadata": {},
     "output_type": "execute_result"
    }
   ],
   "source": [
    "read.shape"
   ]
  },
  {
   "cell_type": "code",
   "execution_count": 136,
   "metadata": {},
   "outputs": [
    {
     "data": {
      "text/html": [
       "<div>\n",
       "<style scoped>\n",
       "    .dataframe tbody tr th:only-of-type {\n",
       "        vertical-align: middle;\n",
       "    }\n",
       "\n",
       "    .dataframe tbody tr th {\n",
       "        vertical-align: top;\n",
       "    }\n",
       "\n",
       "    .dataframe thead th {\n",
       "        text-align: right;\n",
       "    }\n",
       "</style>\n",
       "<table border=\"1\" class=\"dataframe\">\n",
       "  <thead>\n",
       "    <tr style=\"text-align: right;\">\n",
       "      <th></th>\n",
       "      <th>raw</th>\n",
       "      <th>dt</th>\n",
       "      <th>hr</th>\n",
       "      <th>user_id</th>\n",
       "      <th>article_id</th>\n",
       "    </tr>\n",
       "  </thead>\n",
       "  <tbody>\n",
       "    <tr>\n",
       "      <th>0</th>\n",
       "      <td>#e208be4ffea19b1ceb5cea2e3c4dc32c @kty0613_91</td>\n",
       "      <td>20181001</td>\n",
       "      <td>00</td>\n",
       "      <td>#e208be4ffea19b1ceb5cea2e3c4dc32c</td>\n",
       "      <td>@kty0613_91</td>\n",
       "    </tr>\n",
       "    <tr>\n",
       "      <th>1</th>\n",
       "      <td>#0a3d493f3b2318be80f391eaa00bfd1c @miamiyoung_...</td>\n",
       "      <td>20181001</td>\n",
       "      <td>00</td>\n",
       "      <td>#0a3d493f3b2318be80f391eaa00bfd1c</td>\n",
       "      <td>@miamiyoung_31 @banksalad_49 @rlfrjsdn_95 @rea...</td>\n",
       "    </tr>\n",
       "    <tr>\n",
       "      <th>2</th>\n",
       "      <td>#b90d3ee7ed0d7d827aae168e159749f1 @joeunha_4 @...</td>\n",
       "      <td>20181001</td>\n",
       "      <td>00</td>\n",
       "      <td>#b90d3ee7ed0d7d827aae168e159749f1</td>\n",
       "      <td>@joeunha_4 @yoonvi_3</td>\n",
       "    </tr>\n",
       "    <tr>\n",
       "      <th>3</th>\n",
       "      <td>#b8b9d09fe2961fd62edc94912bf75a90 @hyejinchoi_...</td>\n",
       "      <td>20181001</td>\n",
       "      <td>00</td>\n",
       "      <td>#b8b9d09fe2961fd62edc94912bf75a90</td>\n",
       "      <td>@hyejinchoi_122 @hyejinchoi_86 @hyejinchoi_42 ...</td>\n",
       "    </tr>\n",
       "    <tr>\n",
       "      <th>4</th>\n",
       "      <td>#072f742eda9359cdac03ad080193c11d @doyeonsunim...</td>\n",
       "      <td>20181001</td>\n",
       "      <td>00</td>\n",
       "      <td>#072f742eda9359cdac03ad080193c11d</td>\n",
       "      <td>@doyeonsunim_240 @k52524_297 @bule13_33 @kwong...</td>\n",
       "    </tr>\n",
       "  </tbody>\n",
       "</table>\n",
       "</div>"
      ],
      "text/plain": [
       "                                                 raw        dt  hr  \\\n",
       "0     #e208be4ffea19b1ceb5cea2e3c4dc32c @kty0613_91   20181001  00   \n",
       "1  #0a3d493f3b2318be80f391eaa00bfd1c @miamiyoung_...  20181001  00   \n",
       "2  #b90d3ee7ed0d7d827aae168e159749f1 @joeunha_4 @...  20181001  00   \n",
       "3  #b8b9d09fe2961fd62edc94912bf75a90 @hyejinchoi_...  20181001  00   \n",
       "4  #072f742eda9359cdac03ad080193c11d @doyeonsunim...  20181001  00   \n",
       "\n",
       "                             user_id  \\\n",
       "0  #e208be4ffea19b1ceb5cea2e3c4dc32c   \n",
       "1  #0a3d493f3b2318be80f391eaa00bfd1c   \n",
       "2  #b90d3ee7ed0d7d827aae168e159749f1   \n",
       "3  #b8b9d09fe2961fd62edc94912bf75a90   \n",
       "4  #072f742eda9359cdac03ad080193c11d   \n",
       "\n",
       "                                          article_id  \n",
       "0                                        @kty0613_91  \n",
       "1  @miamiyoung_31 @banksalad_49 @rlfrjsdn_95 @rea...  \n",
       "2                               @joeunha_4 @yoonvi_3  \n",
       "3  @hyejinchoi_122 @hyejinchoi_86 @hyejinchoi_42 ...  \n",
       "4  @doyeonsunim_240 @k52524_297 @bule13_33 @kwong...  "
      ]
     },
     "execution_count": 136,
     "metadata": {},
     "output_type": "execute_result"
    }
   ],
   "source": [
    "read.head()"
   ]
  },
  {
   "cell_type": "code",
   "execution_count": 137,
   "metadata": {},
   "outputs": [
    {
     "data": {
      "text/html": [
       "<div>\n",
       "<style scoped>\n",
       "    .dataframe tbody tr th:only-of-type {\n",
       "        vertical-align: middle;\n",
       "    }\n",
       "\n",
       "    .dataframe tbody tr th {\n",
       "        vertical-align: top;\n",
       "    }\n",
       "\n",
       "    .dataframe thead th {\n",
       "        text-align: right;\n",
       "    }\n",
       "</style>\n",
       "<table border=\"1\" class=\"dataframe\">\n",
       "  <thead>\n",
       "    <tr style=\"text-align: right;\">\n",
       "      <th></th>\n",
       "      <th>raw</th>\n",
       "      <th>dt</th>\n",
       "      <th>hr</th>\n",
       "      <th>user_id</th>\n",
       "      <th>article_id</th>\n",
       "    </tr>\n",
       "  </thead>\n",
       "  <tbody>\n",
       "    <tr>\n",
       "      <th>606</th>\n",
       "      <td>#a46c7024b3804ab1f4fd549e4d9448bb_45</td>\n",
       "      <td>20190228</td>\n",
       "      <td>23</td>\n",
       "      <td>#a46c7024b3804ab1f4fd549e4d9448bb_45</td>\n",
       "      <td></td>\n",
       "    </tr>\n",
       "    <tr>\n",
       "      <th>675</th>\n",
       "      <td>#6eb349ad62c019fa367d42949288d1dc_3</td>\n",
       "      <td>20190228</td>\n",
       "      <td>23</td>\n",
       "      <td>#6eb349ad62c019fa367d42949288d1dc_3</td>\n",
       "      <td></td>\n",
       "    </tr>\n",
       "    <tr>\n",
       "      <th>755</th>\n",
       "      <td>#d17aad82f76714b2c6c5938c1b795d28_155 @haksook...</td>\n",
       "      <td>20190228</td>\n",
       "      <td>23</td>\n",
       "      <td>#d17aad82f76714b2c6c5938c1b795d28_155</td>\n",
       "      <td>@haksookim_90 @haksookim_91 @gompang_121 @jint...</td>\n",
       "    </tr>\n",
       "    <tr>\n",
       "      <th>786</th>\n",
       "      <td>#c312c051de62857bdb28fcc981141c56_17</td>\n",
       "      <td>20190228</td>\n",
       "      <td>23</td>\n",
       "      <td>#c312c051de62857bdb28fcc981141c56_17</td>\n",
       "      <td></td>\n",
       "    </tr>\n",
       "    <tr>\n",
       "      <th>815</th>\n",
       "      <td>#d6a2d0cfebc30014e9b0d9e82c21e6a9_19 @pjsprau_...</td>\n",
       "      <td>20190228</td>\n",
       "      <td>23</td>\n",
       "      <td>#d6a2d0cfebc30014e9b0d9e82c21e6a9_19</td>\n",
       "      <td>@pjsprau_116 @bookfit_4206 @dailylife_420 @hou...</td>\n",
       "    </tr>\n",
       "  </tbody>\n",
       "</table>\n",
       "</div>"
      ],
      "text/plain": [
       "                                                   raw        dt  hr  \\\n",
       "606               #a46c7024b3804ab1f4fd549e4d9448bb_45  20190228  23   \n",
       "675               #6eb349ad62c019fa367d42949288d1dc_3   20190228  23   \n",
       "755  #d17aad82f76714b2c6c5938c1b795d28_155 @haksook...  20190228  23   \n",
       "786               #c312c051de62857bdb28fcc981141c56_17  20190228  23   \n",
       "815  #d6a2d0cfebc30014e9b0d9e82c21e6a9_19 @pjsprau_...  20190228  23   \n",
       "\n",
       "                                   user_id  \\\n",
       "606   #a46c7024b3804ab1f4fd549e4d9448bb_45   \n",
       "675    #6eb349ad62c019fa367d42949288d1dc_3   \n",
       "755  #d17aad82f76714b2c6c5938c1b795d28_155   \n",
       "786   #c312c051de62857bdb28fcc981141c56_17   \n",
       "815   #d6a2d0cfebc30014e9b0d9e82c21e6a9_19   \n",
       "\n",
       "                                            article_id  \n",
       "606                                                     \n",
       "675                                                     \n",
       "755  @haksookim_90 @haksookim_91 @gompang_121 @jint...  \n",
       "786                                                     \n",
       "815  @pjsprau_116 @bookfit_4206 @dailylife_420 @hou...  "
      ]
     },
     "execution_count": 137,
     "metadata": {},
     "output_type": "execute_result"
    }
   ],
   "source": [
    "read.tail()"
   ]
  },
  {
   "cell_type": "markdown",
   "metadata": {},
   "source": [
    "#### 탐색하기 좋은 데이터 포맷으로 변경"
   ]
  },
  {
   "cell_type": "code",
   "execution_count": 142,
   "metadata": {},
   "outputs": [],
   "source": [
    "def chainer(s):\n",
    "    return list(chain.from_iterable(s.str.split(' ')))"
   ]
  },
  {
   "cell_type": "code",
   "execution_count": 143,
   "metadata": {},
   "outputs": [],
   "source": [
    "read_cnt_by_user = read['article_id'].str.split(' ').map(len)"
   ]
  },
  {
   "cell_type": "code",
   "execution_count": 144,
   "metadata": {},
   "outputs": [],
   "source": [
    "read_raw = pd.DataFrame({'dt': np.repeat(read['dt'], read_cnt_by_user),\n",
    "                         'hr': np.repeat(read['hr'], read_cnt_by_user),\n",
    "                         'user_id': np.repeat(read['user_id'], read_cnt_by_user),\n",
    "                         'article_id': chainer(read['article_id'])})"
   ]
  },
  {
   "cell_type": "code",
   "execution_count": 145,
   "metadata": {},
   "outputs": [
    {
     "data": {
      "text/plain": [
       "(21754791, 4)"
      ]
     },
     "execution_count": 145,
     "metadata": {},
     "output_type": "execute_result"
    }
   ],
   "source": [
    "read_raw.shape"
   ]
  },
  {
   "cell_type": "code",
   "execution_count": 146,
   "metadata": {},
   "outputs": [
    {
     "data": {
      "text/html": [
       "<div>\n",
       "<style scoped>\n",
       "    .dataframe tbody tr th:only-of-type {\n",
       "        vertical-align: middle;\n",
       "    }\n",
       "\n",
       "    .dataframe tbody tr th {\n",
       "        vertical-align: top;\n",
       "    }\n",
       "\n",
       "    .dataframe thead th {\n",
       "        text-align: right;\n",
       "    }\n",
       "</style>\n",
       "<table border=\"1\" class=\"dataframe\">\n",
       "  <thead>\n",
       "    <tr style=\"text-align: right;\">\n",
       "      <th></th>\n",
       "      <th>dt</th>\n",
       "      <th>hr</th>\n",
       "      <th>user_id</th>\n",
       "      <th>article_id</th>\n",
       "    </tr>\n",
       "  </thead>\n",
       "  <tbody>\n",
       "    <tr>\n",
       "      <th>0</th>\n",
       "      <td>20181001</td>\n",
       "      <td>00</td>\n",
       "      <td>#e208be4ffea19b1ceb5cea2e3c4dc32c</td>\n",
       "      <td>@kty0613_91</td>\n",
       "    </tr>\n",
       "    <tr>\n",
       "      <th>1</th>\n",
       "      <td>20181001</td>\n",
       "      <td>00</td>\n",
       "      <td>#0a3d493f3b2318be80f391eaa00bfd1c</td>\n",
       "      <td>@miamiyoung_31</td>\n",
       "    </tr>\n",
       "    <tr>\n",
       "      <th>1</th>\n",
       "      <td>20181001</td>\n",
       "      <td>00</td>\n",
       "      <td>#0a3d493f3b2318be80f391eaa00bfd1c</td>\n",
       "      <td>@banksalad_49</td>\n",
       "    </tr>\n",
       "    <tr>\n",
       "      <th>1</th>\n",
       "      <td>20181001</td>\n",
       "      <td>00</td>\n",
       "      <td>#0a3d493f3b2318be80f391eaa00bfd1c</td>\n",
       "      <td>@rlfrjsdn_95</td>\n",
       "    </tr>\n",
       "    <tr>\n",
       "      <th>1</th>\n",
       "      <td>20181001</td>\n",
       "      <td>00</td>\n",
       "      <td>#0a3d493f3b2318be80f391eaa00bfd1c</td>\n",
       "      <td>@readme999_140</td>\n",
       "    </tr>\n",
       "  </tbody>\n",
       "</table>\n",
       "</div>"
      ],
      "text/plain": [
       "         dt  hr                            user_id      article_id\n",
       "0  20181001  00  #e208be4ffea19b1ceb5cea2e3c4dc32c     @kty0613_91\n",
       "1  20181001  00  #0a3d493f3b2318be80f391eaa00bfd1c  @miamiyoung_31\n",
       "1  20181001  00  #0a3d493f3b2318be80f391eaa00bfd1c   @banksalad_49\n",
       "1  20181001  00  #0a3d493f3b2318be80f391eaa00bfd1c    @rlfrjsdn_95\n",
       "1  20181001  00  #0a3d493f3b2318be80f391eaa00bfd1c  @readme999_140"
      ]
     },
     "execution_count": 146,
     "metadata": {},
     "output_type": "execute_result"
    }
   ],
   "source": [
    "read_raw.head()"
   ]
  },
  {
   "cell_type": "code",
   "execution_count": 32,
   "metadata": {},
   "outputs": [
    {
     "name": "stdout",
     "output_type": "stream",
     "text": [
      "전체 데이터 건수: (22110706, 4)\n",
      "중복 소비를 제외한 데이터 건수: (12597878, 2)\n",
      "Unique 독자 수: 306222\n",
      "소비된 Unique 글 수: 505841\n"
     ]
    }
   ],
   "source": [
    "#print(\"전체 데이터 건수:\", read_raw.shape)\n",
    "#print(\"중복 소비를 제외한 데이터 건수:\", read_raw[['user_id', 'article_id']].drop_duplicates().shape)\n",
    "#print(\"Unique 독자 수:\", len(read_raw['user_id'].unique()))\n",
    "#print(\"소비된 Unique 글 수:\", len(read_raw['article_id'].unique()))"
   ]
  },
  {
   "cell_type": "code",
   "execution_count": 147,
   "metadata": {},
   "outputs": [
    {
     "name": "stdout",
     "output_type": "stream",
     "text": [
      "전체 데이터 건수: (21754791, 4)\n",
      "중복 소비를 제외한 데이터 건수: (12431607, 2)\n",
      "Unique 독자 수: 310497\n",
      "소비된 Unique 글 수: 498438\n"
     ]
    }
   ],
   "source": [
    "print(\"전체 데이터 건수:\", read_raw.shape)\n",
    "print(\"중복 소비를 제외한 데이터 건수:\", read_raw[['user_id', 'article_id']].drop_duplicates().shape)\n",
    "print(\"Unique 독자 수:\", len(read_raw['user_id'].unique()))\n",
    "print(\"소비된 Unique 글 수:\", len(read_raw['article_id'].unique()))"
   ]
  },
  {
   "cell_type": "code",
   "execution_count": 148,
   "metadata": {},
   "outputs": [
    {
     "data": {
      "text/html": [
       "<div>\n",
       "<style scoped>\n",
       "    .dataframe tbody tr th:only-of-type {\n",
       "        vertical-align: middle;\n",
       "    }\n",
       "\n",
       "    .dataframe tbody tr th {\n",
       "        vertical-align: top;\n",
       "    }\n",
       "\n",
       "    .dataframe thead th {\n",
       "        text-align: right;\n",
       "    }\n",
       "</style>\n",
       "<table border=\"1\" class=\"dataframe\">\n",
       "  <thead>\n",
       "    <tr style=\"text-align: right;\">\n",
       "      <th></th>\n",
       "      <th>dt</th>\n",
       "      <th>hr</th>\n",
       "      <th>user_id</th>\n",
       "      <th>article_id</th>\n",
       "    </tr>\n",
       "  </thead>\n",
       "  <tbody>\n",
       "    <tr>\n",
       "      <th>0</th>\n",
       "      <td>20181001</td>\n",
       "      <td>00</td>\n",
       "      <td>#e208be4ffea19b1ceb5cea2e3c4dc32c</td>\n",
       "      <td>@kty0613_91</td>\n",
       "    </tr>\n",
       "    <tr>\n",
       "      <th>1</th>\n",
       "      <td>20181001</td>\n",
       "      <td>00</td>\n",
       "      <td>#0a3d493f3b2318be80f391eaa00bfd1c</td>\n",
       "      <td>@miamiyoung_31</td>\n",
       "    </tr>\n",
       "    <tr>\n",
       "      <th>1</th>\n",
       "      <td>20181001</td>\n",
       "      <td>00</td>\n",
       "      <td>#0a3d493f3b2318be80f391eaa00bfd1c</td>\n",
       "      <td>@banksalad_49</td>\n",
       "    </tr>\n",
       "    <tr>\n",
       "      <th>1</th>\n",
       "      <td>20181001</td>\n",
       "      <td>00</td>\n",
       "      <td>#0a3d493f3b2318be80f391eaa00bfd1c</td>\n",
       "      <td>@rlfrjsdn_95</td>\n",
       "    </tr>\n",
       "    <tr>\n",
       "      <th>1</th>\n",
       "      <td>20181001</td>\n",
       "      <td>00</td>\n",
       "      <td>#0a3d493f3b2318be80f391eaa00bfd1c</td>\n",
       "      <td>@readme999_140</td>\n",
       "    </tr>\n",
       "  </tbody>\n",
       "</table>\n",
       "</div>"
      ],
      "text/plain": [
       "         dt  hr                            user_id      article_id\n",
       "0  20181001  00  #e208be4ffea19b1ceb5cea2e3c4dc32c     @kty0613_91\n",
       "1  20181001  00  #0a3d493f3b2318be80f391eaa00bfd1c  @miamiyoung_31\n",
       "1  20181001  00  #0a3d493f3b2318be80f391eaa00bfd1c   @banksalad_49\n",
       "1  20181001  00  #0a3d493f3b2318be80f391eaa00bfd1c    @rlfrjsdn_95\n",
       "1  20181001  00  #0a3d493f3b2318be80f391eaa00bfd1c  @readme999_140"
      ]
     },
     "execution_count": 148,
     "metadata": {},
     "output_type": "execute_result"
    }
   ],
   "source": [
    "read_raw.head()"
   ]
  },
  {
   "cell_type": "code",
   "execution_count": 149,
   "metadata": {},
   "outputs": [
    {
     "data": {
      "text/html": [
       "<div>\n",
       "<style scoped>\n",
       "    .dataframe tbody tr th:only-of-type {\n",
       "        vertical-align: middle;\n",
       "    }\n",
       "\n",
       "    .dataframe tbody tr th {\n",
       "        vertical-align: top;\n",
       "    }\n",
       "\n",
       "    .dataframe thead th {\n",
       "        text-align: right;\n",
       "    }\n",
       "</style>\n",
       "<table border=\"1\" class=\"dataframe\">\n",
       "  <thead>\n",
       "    <tr style=\"text-align: right;\">\n",
       "      <th></th>\n",
       "      <th>dt</th>\n",
       "      <th>hr</th>\n",
       "      <th>user_id</th>\n",
       "      <th>article_id</th>\n",
       "    </tr>\n",
       "  </thead>\n",
       "  <tbody>\n",
       "    <tr>\n",
       "      <th>786</th>\n",
       "      <td>20190228</td>\n",
       "      <td>23</td>\n",
       "      <td>#c312c051de62857bdb28fcc981141c56_17</td>\n",
       "      <td></td>\n",
       "    </tr>\n",
       "    <tr>\n",
       "      <th>815</th>\n",
       "      <td>20190228</td>\n",
       "      <td>23</td>\n",
       "      <td>#d6a2d0cfebc30014e9b0d9e82c21e6a9_19</td>\n",
       "      <td>@pjsprau_116</td>\n",
       "    </tr>\n",
       "    <tr>\n",
       "      <th>815</th>\n",
       "      <td>20190228</td>\n",
       "      <td>23</td>\n",
       "      <td>#d6a2d0cfebc30014e9b0d9e82c21e6a9_19</td>\n",
       "      <td>@bookfit_4206</td>\n",
       "    </tr>\n",
       "    <tr>\n",
       "      <th>815</th>\n",
       "      <td>20190228</td>\n",
       "      <td>23</td>\n",
       "      <td>#d6a2d0cfebc30014e9b0d9e82c21e6a9_19</td>\n",
       "      <td>@dailylife_420</td>\n",
       "    </tr>\n",
       "    <tr>\n",
       "      <th>815</th>\n",
       "      <td>20190228</td>\n",
       "      <td>23</td>\n",
       "      <td>#d6a2d0cfebc30014e9b0d9e82c21e6a9_19</td>\n",
       "      <td>@houseggumiki_88</td>\n",
       "    </tr>\n",
       "  </tbody>\n",
       "</table>\n",
       "</div>"
      ],
      "text/plain": [
       "           dt  hr                               user_id        article_id\n",
       "786  20190228  23  #c312c051de62857bdb28fcc981141c56_17                  \n",
       "815  20190228  23  #d6a2d0cfebc30014e9b0d9e82c21e6a9_19      @pjsprau_116\n",
       "815  20190228  23  #d6a2d0cfebc30014e9b0d9e82c21e6a9_19     @bookfit_4206\n",
       "815  20190228  23  #d6a2d0cfebc30014e9b0d9e82c21e6a9_19    @dailylife_420\n",
       "815  20190228  23  #d6a2d0cfebc30014e9b0d9e82c21e6a9_19  @houseggumiki_88"
      ]
     },
     "execution_count": 149,
     "metadata": {},
     "output_type": "execute_result"
    }
   ],
   "source": [
    "read_raw.tail()"
   ]
  },
  {
   "cell_type": "code",
   "execution_count": 150,
   "metadata": {},
   "outputs": [
    {
     "data": {
      "text/html": [
       "<div>\n",
       "<style scoped>\n",
       "    .dataframe tbody tr th:only-of-type {\n",
       "        vertical-align: middle;\n",
       "    }\n",
       "\n",
       "    .dataframe tbody tr th {\n",
       "        vertical-align: top;\n",
       "    }\n",
       "\n",
       "    .dataframe thead th {\n",
       "        text-align: right;\n",
       "    }\n",
       "</style>\n",
       "<table border=\"1\" class=\"dataframe\">\n",
       "  <thead>\n",
       "    <tr style=\"text-align: right;\">\n",
       "      <th></th>\n",
       "      <th>dt</th>\n",
       "      <th>hr</th>\n",
       "      <th>user_id</th>\n",
       "      <th>article_id</th>\n",
       "    </tr>\n",
       "  </thead>\n",
       "  <tbody>\n",
       "    <tr>\n",
       "      <th>28</th>\n",
       "      <td>20181001</td>\n",
       "      <td>00</td>\n",
       "      <td>#db7acb1f50e54b8f78344803fb1eb5cf</td>\n",
       "      <td></td>\n",
       "    </tr>\n",
       "    <tr>\n",
       "      <th>31</th>\n",
       "      <td>20181001</td>\n",
       "      <td>00</td>\n",
       "      <td>#7411fe2ebde59b981f7b9e22c153b3bb</td>\n",
       "      <td></td>\n",
       "    </tr>\n",
       "    <tr>\n",
       "      <th>117</th>\n",
       "      <td>20181001</td>\n",
       "      <td>00</td>\n",
       "      <td>#3dd58f2ad342f93e7650ca5d159f64b5</td>\n",
       "      <td></td>\n",
       "    </tr>\n",
       "    <tr>\n",
       "      <th>124</th>\n",
       "      <td>20181001</td>\n",
       "      <td>00</td>\n",
       "      <td>#e3c6b5ce0f1834cd932d395bd86a3d13</td>\n",
       "      <td></td>\n",
       "    </tr>\n",
       "    <tr>\n",
       "      <th>134</th>\n",
       "      <td>20181001</td>\n",
       "      <td>00</td>\n",
       "      <td>#a575890bcdff2bc22e7ef731d6766809</td>\n",
       "      <td></td>\n",
       "    </tr>\n",
       "  </tbody>\n",
       "</table>\n",
       "</div>"
      ],
      "text/plain": [
       "           dt  hr                            user_id article_id\n",
       "28   20181001  00  #db7acb1f50e54b8f78344803fb1eb5cf           \n",
       "31   20181001  00  #7411fe2ebde59b981f7b9e22c153b3bb           \n",
       "117  20181001  00  #3dd58f2ad342f93e7650ca5d159f64b5           \n",
       "124  20181001  00  #e3c6b5ce0f1834cd932d395bd86a3d13           \n",
       "134  20181001  00  #a575890bcdff2bc22e7ef731d6766809           "
      ]
     },
     "execution_count": 150,
     "metadata": {},
     "output_type": "execute_result"
    }
   ],
   "source": [
    "read_raw[read_raw.article_id == ''].head()"
   ]
  },
  {
   "cell_type": "code",
   "execution_count": 151,
   "metadata": {},
   "outputs": [],
   "source": [
    "read_raw2 = read_raw[read_raw.article_id != '']"
   ]
  },
  {
   "cell_type": "code",
   "execution_count": 152,
   "metadata": {},
   "outputs": [
    {
     "name": "stdout",
     "output_type": "stream",
     "text": [
      "전체 데이터 건수: (21716610, 4)\n",
      "중복 소비를 제외한 데이터 건수: (12417455, 2)\n",
      "Unique 독자 수: 308532\n",
      "소비된 Unique 글 수: 498437\n"
     ]
    }
   ],
   "source": [
    "print(\"전체 데이터 건수:\", read_raw2.shape)\n",
    "print(\"중복 소비를 제외한 데이터 건수:\", read_raw2[['user_id', 'article_id']].drop_duplicates().shape)\n",
    "print(\"Unique 독자 수:\", len(read_raw2['user_id'].unique()))\n",
    "print(\"소비된 Unique 글 수:\", len(read_raw2['article_id'].unique()))"
   ]
  },
  {
   "cell_type": "code",
   "execution_count": null,
   "metadata": {},
   "outputs": [],
   "source": []
  },
  {
   "cell_type": "code",
   "execution_count": null,
   "metadata": {},
   "outputs": [],
   "source": []
  },
  {
   "cell_type": "markdown",
   "metadata": {},
   "source": [
    "### e. Contents - data.5/data.6"
   ]
  },
  {
   "cell_type": "code",
   "execution_count": 51,
   "metadata": {},
   "outputs": [],
   "source": [
    "data5 = pd.read_json(directory + 'data.5', lines = True)"
   ]
  },
  {
   "cell_type": "code",
   "execution_count": 52,
   "metadata": {},
   "outputs": [
    {
     "data": {
      "text/plain": [
       "(100000, 3)"
      ]
     },
     "execution_count": 52,
     "metadata": {},
     "output_type": "execute_result"
    }
   ],
   "source": [
    "data5.shape"
   ]
  },
  {
   "cell_type": "code",
   "execution_count": 53,
   "metadata": {},
   "outputs": [],
   "source": [
    "data5.columns = ['chars','article_id','morphs']"
   ]
  },
  {
   "cell_type": "code",
   "execution_count": 54,
   "metadata": {
    "scrolled": true
   },
   "outputs": [
    {
     "data": {
      "text/html": [
       "<div>\n",
       "<style scoped>\n",
       "    .dataframe tbody tr th:only-of-type {\n",
       "        vertical-align: middle;\n",
       "    }\n",
       "\n",
       "    .dataframe tbody tr th {\n",
       "        vertical-align: top;\n",
       "    }\n",
       "\n",
       "    .dataframe thead th {\n",
       "        text-align: right;\n",
       "    }\n",
       "</style>\n",
       "<table border=\"1\" class=\"dataframe\">\n",
       "  <thead>\n",
       "    <tr style=\"text-align: right;\">\n",
       "      <th></th>\n",
       "      <th>chars</th>\n",
       "      <th>article_id</th>\n",
       "      <th>morphs</th>\n",
       "    </tr>\n",
       "  </thead>\n",
       "  <tbody>\n",
       "    <tr>\n",
       "      <th>0</th>\n",
       "      <td>[[362/SW], [166+175+169+130+133+171/SL], [448+...</td>\n",
       "      <td>@kmug_79</td>\n",
       "      <td>[[397/SW], [46800/SL], [16782/NNG, 117/JC], [6...</td>\n",
       "    </tr>\n",
       "    <tr>\n",
       "      <th>1</th>\n",
       "      <td>[[116+87/NNG, 335/NNP, 47/JKG], [18+393/NNG, 1...</td>\n",
       "      <td>@keentoknow_18</td>\n",
       "      <td>[[2719/NNG, 356/NNP, 38/JKG], [734/NNG, 7/JX],...</td>\n",
       "    </tr>\n",
       "    <tr>\n",
       "      <th>2</th>\n",
       "      <td>[[1003+4+480/NNP], [87+307+202+128/NNP, 9/JX],...</td>\n",
       "      <td>@elara1020_108</td>\n",
       "      <td>[[30798/NNP], [509511/NNP, 5/JX], [291245/NNP]...</td>\n",
       "    </tr>\n",
       "    <tr>\n",
       "      <th>3</th>\n",
       "      <td>[[122+313+312+121/SN, 316/NNB], [120/SN, 442/N...</td>\n",
       "      <td>@skumac_297</td>\n",
       "      <td>[[2126/SN, 324/NNB], [1475/SN, 1478/NNB], [413...</td>\n",
       "    </tr>\n",
       "    <tr>\n",
       "      <th>4</th>\n",
       "      <td>[[347+371/NNG], [15/VV, 16/ETM], [17/NNG, 9/JX...</td>\n",
       "      <td>@haese-kang_96</td>\n",
       "      <td>[[814/NNG], [9/VV, 10/ETM], [11/NNG, 5/JX], [4...</td>\n",
       "    </tr>\n",
       "  </tbody>\n",
       "</table>\n",
       "</div>"
      ],
      "text/plain": [
       "                                               chars      article_id  \\\n",
       "0  [[362/SW], [166+175+169+130+133+171/SL], [448+...        @kmug_79   \n",
       "1  [[116+87/NNG, 335/NNP, 47/JKG], [18+393/NNG, 1...  @keentoknow_18   \n",
       "2  [[1003+4+480/NNP], [87+307+202+128/NNP, 9/JX],...  @elara1020_108   \n",
       "3  [[122+313+312+121/SN, 316/NNB], [120/SN, 442/N...     @skumac_297   \n",
       "4  [[347+371/NNG], [15/VV, 16/ETM], [17/NNG, 9/JX...  @haese-kang_96   \n",
       "\n",
       "                                              morphs  \n",
       "0  [[397/SW], [46800/SL], [16782/NNG, 117/JC], [6...  \n",
       "1  [[2719/NNG, 356/NNP, 38/JKG], [734/NNG, 7/JX],...  \n",
       "2  [[30798/NNP], [509511/NNP, 5/JX], [291245/NNP]...  \n",
       "3  [[2126/SN, 324/NNB], [1475/SN, 1478/NNB], [413...  \n",
       "4  [[814/NNG], [9/VV, 10/ETM], [11/NNG, 5/JX], [4...  "
      ]
     },
     "execution_count": 54,
     "metadata": {},
     "output_type": "execute_result"
    }
   ],
   "source": [
    "data5.head()"
   ]
  },
  {
   "cell_type": "code",
   "execution_count": 34,
   "metadata": {},
   "outputs": [],
   "source": [
    "data6 = pd.read_json(directory + 'data.6', lines = True)"
   ]
  },
  {
   "cell_type": "code",
   "execution_count": 35,
   "metadata": {},
   "outputs": [
    {
     "data": {
      "text/plain": [
       "(42190, 3)"
      ]
     },
     "execution_count": 35,
     "metadata": {},
     "output_type": "execute_result"
    }
   ],
   "source": [
    "data6.shape"
   ]
  },
  {
   "cell_type": "code",
   "execution_count": 36,
   "metadata": {},
   "outputs": [
    {
     "data": {
      "text/html": [
       "<div>\n",
       "<style scoped>\n",
       "    .dataframe tbody tr th:only-of-type {\n",
       "        vertical-align: middle;\n",
       "    }\n",
       "\n",
       "    .dataframe tbody tr th {\n",
       "        vertical-align: top;\n",
       "    }\n",
       "\n",
       "    .dataframe thead th {\n",
       "        text-align: right;\n",
       "    }\n",
       "</style>\n",
       "<table border=\"1\" class=\"dataframe\">\n",
       "  <thead>\n",
       "    <tr style=\"text-align: right;\">\n",
       "      <th></th>\n",
       "      <th>chars</th>\n",
       "      <th>id</th>\n",
       "      <th>morphs</th>\n",
       "    </tr>\n",
       "  </thead>\n",
       "  <tbody>\n",
       "    <tr>\n",
       "      <th>0</th>\n",
       "      <td>[[529/SS], [78+430/NP, 260+80/JX], [33+23/VV, ...</td>\n",
       "      <td>@volo_141</td>\n",
       "      <td>[[817/SS], [816/NP, 248/JX], [1404/VV, 65/EC, ...</td>\n",
       "    </tr>\n",
       "    <tr>\n",
       "      <th>1</th>\n",
       "      <td>[[529/SS], [527+217+294/NNG, 61/XSN, 50/JKO], ...</td>\n",
       "      <td>@hansalt58_259</td>\n",
       "      <td>[[817/SS], [16519/NNG, 48/XSN, 40/JKO], [533/V...</td>\n",
       "    </tr>\n",
       "    <tr>\n",
       "      <th>2</th>\n",
       "      <td>[[118/NP, 5/JKS], [336+27/NNG, 94+391/NNG, 62/...</td>\n",
       "      <td>@hago_63</td>\n",
       "      <td>[[209/NP, 35/JKS], [1201/NNG, 9472/NNG, 50/JKO...</td>\n",
       "    </tr>\n",
       "    <tr>\n",
       "      <th>3</th>\n",
       "      <td>[[312+567/SN, 43/NNB], [43+188+594/NNG], [392+...</td>\n",
       "      <td>@elni99_82</td>\n",
       "      <td>[[4141/SN, 2091/NNB], [1105/NNG], [2498/NNG, 7...</td>\n",
       "    </tr>\n",
       "    <tr>\n",
       "      <th>4</th>\n",
       "      <td>[[383/SW], [383/SW], [383/SW], [362/SW, 362+36...</td>\n",
       "      <td>@2econdlife_137</td>\n",
       "      <td>[[437/SW], [437/SW], [437/SW], [397/SW, 398/SW...</td>\n",
       "    </tr>\n",
       "  </tbody>\n",
       "</table>\n",
       "</div>"
      ],
      "text/plain": [
       "                                               chars               id  \\\n",
       "0  [[529/SS], [78+430/NP, 260+80/JX], [33+23/VV, ...        @volo_141   \n",
       "1  [[529/SS], [527+217+294/NNG, 61/XSN, 50/JKO], ...   @hansalt58_259   \n",
       "2  [[118/NP, 5/JKS], [336+27/NNG, 94+391/NNG, 62/...         @hago_63   \n",
       "3  [[312+567/SN, 43/NNB], [43+188+594/NNG], [392+...       @elni99_82   \n",
       "4  [[383/SW], [383/SW], [383/SW], [362/SW, 362+36...  @2econdlife_137   \n",
       "\n",
       "                                              morphs  \n",
       "0  [[817/SS], [816/NP, 248/JX], [1404/VV, 65/EC, ...  \n",
       "1  [[817/SS], [16519/NNG, 48/XSN, 40/JKO], [533/V...  \n",
       "2  [[209/NP, 35/JKS], [1201/NNG, 9472/NNG, 50/JKO...  \n",
       "3  [[4141/SN, 2091/NNB], [1105/NNG], [2498/NNG, 7...  \n",
       "4  [[437/SW], [437/SW], [437/SW], [397/SW, 398/SW...  "
      ]
     },
     "execution_count": 36,
     "metadata": {},
     "output_type": "execute_result"
    }
   ],
   "source": [
    "data6.head()"
   ]
  },
  {
   "cell_type": "code",
   "execution_count": 48,
   "metadata": {},
   "outputs": [],
   "source": [
    "data6.columns = ['chars','article_id','morphs']"
   ]
  },
  {
   "cell_type": "code",
   "execution_count": 49,
   "metadata": {
    "scrolled": true
   },
   "outputs": [
    {
     "data": {
      "text/html": [
       "<div>\n",
       "<style scoped>\n",
       "    .dataframe tbody tr th:only-of-type {\n",
       "        vertical-align: middle;\n",
       "    }\n",
       "\n",
       "    .dataframe tbody tr th {\n",
       "        vertical-align: top;\n",
       "    }\n",
       "\n",
       "    .dataframe thead th {\n",
       "        text-align: right;\n",
       "    }\n",
       "</style>\n",
       "<table border=\"1\" class=\"dataframe\">\n",
       "  <thead>\n",
       "    <tr style=\"text-align: right;\">\n",
       "      <th></th>\n",
       "      <th>chars</th>\n",
       "      <th>article_id</th>\n",
       "      <th>morphs</th>\n",
       "    </tr>\n",
       "  </thead>\n",
       "  <tbody>\n",
       "    <tr>\n",
       "      <th>0</th>\n",
       "      <td>[[529/SS], [78+430/NP, 260+80/JX], [33+23/VV, ...</td>\n",
       "      <td>@volo_141</td>\n",
       "      <td>[[817/SS], [816/NP, 248/JX], [1404/VV, 65/EC, ...</td>\n",
       "    </tr>\n",
       "    <tr>\n",
       "      <th>1</th>\n",
       "      <td>[[529/SS], [527+217+294/NNG, 61/XSN, 50/JKO], ...</td>\n",
       "      <td>@hansalt58_259</td>\n",
       "      <td>[[817/SS], [16519/NNG, 48/XSN, 40/JKO], [533/V...</td>\n",
       "    </tr>\n",
       "    <tr>\n",
       "      <th>2</th>\n",
       "      <td>[[118/NP, 5/JKS], [336+27/NNG, 94+391/NNG, 62/...</td>\n",
       "      <td>@hago_63</td>\n",
       "      <td>[[209/NP, 35/JKS], [1201/NNG, 9472/NNG, 50/JKO...</td>\n",
       "    </tr>\n",
       "    <tr>\n",
       "      <th>3</th>\n",
       "      <td>[[312+567/SN, 43/NNB], [43+188+594/NNG], [392+...</td>\n",
       "      <td>@elni99_82</td>\n",
       "      <td>[[4141/SN, 2091/NNB], [1105/NNG], [2498/NNG, 7...</td>\n",
       "    </tr>\n",
       "    <tr>\n",
       "      <th>4</th>\n",
       "      <td>[[383/SW], [383/SW], [383/SW], [362/SW, 362+36...</td>\n",
       "      <td>@2econdlife_137</td>\n",
       "      <td>[[437/SW], [437/SW], [437/SW], [397/SW, 398/SW...</td>\n",
       "    </tr>\n",
       "  </tbody>\n",
       "</table>\n",
       "</div>"
      ],
      "text/plain": [
       "                                               chars       article_id  \\\n",
       "0  [[529/SS], [78+430/NP, 260+80/JX], [33+23/VV, ...        @volo_141   \n",
       "1  [[529/SS], [527+217+294/NNG, 61/XSN, 50/JKO], ...   @hansalt58_259   \n",
       "2  [[118/NP, 5/JKS], [336+27/NNG, 94+391/NNG, 62/...         @hago_63   \n",
       "3  [[312+567/SN, 43/NNB], [43+188+594/NNG], [392+...       @elni99_82   \n",
       "4  [[383/SW], [383/SW], [383/SW], [362/SW, 362+36...  @2econdlife_137   \n",
       "\n",
       "                                              morphs  \n",
       "0  [[817/SS], [816/NP, 248/JX], [1404/VV, 65/EC, ...  \n",
       "1  [[817/SS], [16519/NNG, 48/XSN, 40/JKO], [533/V...  \n",
       "2  [[209/NP, 35/JKS], [1201/NNG, 9472/NNG, 50/JKO...  \n",
       "3  [[4141/SN, 2091/NNB], [1105/NNG], [2498/NNG, 7...  \n",
       "4  [[437/SW], [437/SW], [437/SW], [397/SW, 398/SW...  "
      ]
     },
     "execution_count": 49,
     "metadata": {},
     "output_type": "execute_result"
    }
   ],
   "source": [
    "data6.head()"
   ]
  },
  {
   "cell_type": "markdown",
   "metadata": {},
   "source": [
    "### f. test.users"
   ]
  },
  {
   "cell_type": "code",
   "execution_count": 91,
   "metadata": {},
   "outputs": [],
   "source": [
    "test = pd.read_csv(directory + 'predict/test.users', header = None,names = ['user_id'])"
   ]
  },
  {
   "cell_type": "code",
   "execution_count": 92,
   "metadata": {},
   "outputs": [
    {
     "data": {
      "text/html": [
       "<div>\n",
       "<style scoped>\n",
       "    .dataframe tbody tr th:only-of-type {\n",
       "        vertical-align: middle;\n",
       "    }\n",
       "\n",
       "    .dataframe tbody tr th {\n",
       "        vertical-align: top;\n",
       "    }\n",
       "\n",
       "    .dataframe thead th {\n",
       "        text-align: right;\n",
       "    }\n",
       "</style>\n",
       "<table border=\"1\" class=\"dataframe\">\n",
       "  <thead>\n",
       "    <tr style=\"text-align: right;\">\n",
       "      <th></th>\n",
       "      <th>user_id</th>\n",
       "    </tr>\n",
       "  </thead>\n",
       "  <tbody>\n",
       "    <tr>\n",
       "      <th>0</th>\n",
       "      <td>#7ee14df8642a7925b1465ff5c89efe5b</td>\n",
       "    </tr>\n",
       "    <tr>\n",
       "      <th>1</th>\n",
       "      <td>#8420b9385b282028eebf1ad6b4a221c0</td>\n",
       "    </tr>\n",
       "    <tr>\n",
       "      <th>2</th>\n",
       "      <td>#c9b31d8b64357f5854b1ba55b32eb6d3</td>\n",
       "    </tr>\n",
       "    <tr>\n",
       "      <th>3</th>\n",
       "      <td>#9bb1e13b5481fa3737af20870b25c723</td>\n",
       "    </tr>\n",
       "    <tr>\n",
       "      <th>4</th>\n",
       "      <td>#37d5f99a7f12c9ba90c4e2ac92e54ab6</td>\n",
       "    </tr>\n",
       "  </tbody>\n",
       "</table>\n",
       "</div>"
      ],
      "text/plain": [
       "                             user_id\n",
       "0  #7ee14df8642a7925b1465ff5c89efe5b\n",
       "1  #8420b9385b282028eebf1ad6b4a221c0\n",
       "2  #c9b31d8b64357f5854b1ba55b32eb6d3\n",
       "3  #9bb1e13b5481fa3737af20870b25c723\n",
       "4  #37d5f99a7f12c9ba90c4e2ac92e54ab6"
      ]
     },
     "execution_count": 92,
     "metadata": {},
     "output_type": "execute_result"
    }
   ],
   "source": [
    "test.head()"
   ]
  },
  {
   "cell_type": "code",
   "execution_count": 93,
   "metadata": {},
   "outputs": [
    {
     "data": {
      "text/html": [
       "<div>\n",
       "<style scoped>\n",
       "    .dataframe tbody tr th:only-of-type {\n",
       "        vertical-align: middle;\n",
       "    }\n",
       "\n",
       "    .dataframe tbody tr th {\n",
       "        vertical-align: top;\n",
       "    }\n",
       "\n",
       "    .dataframe thead th {\n",
       "        text-align: right;\n",
       "    }\n",
       "</style>\n",
       "<table border=\"1\" class=\"dataframe\">\n",
       "  <thead>\n",
       "    <tr style=\"text-align: right;\">\n",
       "      <th></th>\n",
       "      <th>user_id</th>\n",
       "    </tr>\n",
       "  </thead>\n",
       "  <tbody>\n",
       "    <tr>\n",
       "      <th>4995</th>\n",
       "      <td>#47edae20557b7cf114b9dbcbd28f93be</td>\n",
       "    </tr>\n",
       "    <tr>\n",
       "      <th>4996</th>\n",
       "      <td>#c57f417d8e8e29f7f147fff6a2a0efd1</td>\n",
       "    </tr>\n",
       "    <tr>\n",
       "      <th>4997</th>\n",
       "      <td>#c9862af1f4299a9c76b6727880bc1277</td>\n",
       "    </tr>\n",
       "    <tr>\n",
       "      <th>4998</th>\n",
       "      <td>#634cea2ad0b7c810392347d8cad27ab1</td>\n",
       "    </tr>\n",
       "    <tr>\n",
       "      <th>4999</th>\n",
       "      <td>#66686ed88efe783fe0a6b8f69fa36a49</td>\n",
       "    </tr>\n",
       "  </tbody>\n",
       "</table>\n",
       "</div>"
      ],
      "text/plain": [
       "                                user_id\n",
       "4995  #47edae20557b7cf114b9dbcbd28f93be\n",
       "4996  #c57f417d8e8e29f7f147fff6a2a0efd1\n",
       "4997  #c9862af1f4299a9c76b6727880bc1277\n",
       "4998  #634cea2ad0b7c810392347d8cad27ab1\n",
       "4999  #66686ed88efe783fe0a6b8f69fa36a49"
      ]
     },
     "execution_count": 93,
     "metadata": {},
     "output_type": "execute_result"
    }
   ],
   "source": [
    "test.tail()"
   ]
  },
  {
   "cell_type": "code",
   "execution_count": 94,
   "metadata": {},
   "outputs": [],
   "source": [
    "test2 = pd.merge(test,users,how='left',left_on='user_id',right_on='user_id')"
   ]
  },
  {
   "cell_type": "code",
   "execution_count": 95,
   "metadata": {},
   "outputs": [
    {
     "data": {
      "text/html": [
       "<div>\n",
       "<style scoped>\n",
       "    .dataframe tbody tr th:only-of-type {\n",
       "        vertical-align: middle;\n",
       "    }\n",
       "\n",
       "    .dataframe tbody tr th {\n",
       "        vertical-align: top;\n",
       "    }\n",
       "\n",
       "    .dataframe thead th {\n",
       "        text-align: right;\n",
       "    }\n",
       "</style>\n",
       "<table border=\"1\" class=\"dataframe\">\n",
       "  <thead>\n",
       "    <tr style=\"text-align: right;\">\n",
       "      <th></th>\n",
       "      <th>user_id</th>\n",
       "      <th>following_list</th>\n",
       "      <th>keyword_list2</th>\n",
       "    </tr>\n",
       "  </thead>\n",
       "  <tbody>\n",
       "    <tr>\n",
       "      <th>0</th>\n",
       "      <td>#7ee14df8642a7925b1465ff5c89efe5b</td>\n",
       "      <td>[@avecrhae, @gongdae-unni, @jhcharm1, @travel-...</td>\n",
       "      <td>[]</td>\n",
       "    </tr>\n",
       "    <tr>\n",
       "      <th>1</th>\n",
       "      <td>#8420b9385b282028eebf1ad6b4a221c0</td>\n",
       "      <td>[@jhj3211, @ohuk2011, @heat0508, @sssfriend, @...</td>\n",
       "      <td>[]</td>\n",
       "    </tr>\n",
       "    <tr>\n",
       "      <th>2</th>\n",
       "      <td>#c9b31d8b64357f5854b1ba55b32eb6d3</td>\n",
       "      <td>[@marso123, @forhappywomen, @kimpyogo, @brunch]</td>\n",
       "      <td>[]</td>\n",
       "    </tr>\n",
       "    <tr>\n",
       "      <th>3</th>\n",
       "      <td>#9bb1e13b5481fa3737af20870b25c723</td>\n",
       "      <td>[@moonjakga, @aemae-human, @tamarorim, @syshin...</td>\n",
       "      <td>[]</td>\n",
       "    </tr>\n",
       "    <tr>\n",
       "      <th>4</th>\n",
       "      <td>#37d5f99a7f12c9ba90c4e2ac92e54ab6</td>\n",
       "      <td>[@oms1225, @dryjshin, @roysday, @hanuuri, @cyy...</td>\n",
       "      <td>[]</td>\n",
       "    </tr>\n",
       "  </tbody>\n",
       "</table>\n",
       "</div>"
      ],
      "text/plain": [
       "                             user_id  \\\n",
       "0  #7ee14df8642a7925b1465ff5c89efe5b   \n",
       "1  #8420b9385b282028eebf1ad6b4a221c0   \n",
       "2  #c9b31d8b64357f5854b1ba55b32eb6d3   \n",
       "3  #9bb1e13b5481fa3737af20870b25c723   \n",
       "4  #37d5f99a7f12c9ba90c4e2ac92e54ab6   \n",
       "\n",
       "                                      following_list keyword_list2  \n",
       "0  [@avecrhae, @gongdae-unni, @jhcharm1, @travel-...            []  \n",
       "1  [@jhj3211, @ohuk2011, @heat0508, @sssfriend, @...            []  \n",
       "2    [@marso123, @forhappywomen, @kimpyogo, @brunch]            []  \n",
       "3  [@moonjakga, @aemae-human, @tamarorim, @syshin...            []  \n",
       "4  [@oms1225, @dryjshin, @roysday, @hanuuri, @cyy...            []  "
      ]
     },
     "execution_count": 95,
     "metadata": {},
     "output_type": "execute_result"
    }
   ],
   "source": [
    "test2.head()"
   ]
  },
  {
   "cell_type": "code",
   "execution_count": 98,
   "metadata": {},
   "outputs": [
    {
     "data": {
      "text/html": [
       "<div>\n",
       "<style scoped>\n",
       "    .dataframe tbody tr th:only-of-type {\n",
       "        vertical-align: middle;\n",
       "    }\n",
       "\n",
       "    .dataframe tbody tr th {\n",
       "        vertical-align: top;\n",
       "    }\n",
       "\n",
       "    .dataframe thead th {\n",
       "        text-align: right;\n",
       "    }\n",
       "</style>\n",
       "<table border=\"1\" class=\"dataframe\">\n",
       "  <thead>\n",
       "    <tr style=\"text-align: right;\">\n",
       "      <th></th>\n",
       "      <th>user_id</th>\n",
       "      <th>following_list</th>\n",
       "      <th>keyword_list2</th>\n",
       "    </tr>\n",
       "  </thead>\n",
       "  <tbody>\n",
       "    <tr>\n",
       "      <th>4995</th>\n",
       "      <td>#47edae20557b7cf114b9dbcbd28f93be</td>\n",
       "      <td>[@iamlived86, @mnb4237, @brunch]</td>\n",
       "      <td>[]</td>\n",
       "    </tr>\n",
       "    <tr>\n",
       "      <th>4996</th>\n",
       "      <td>#c57f417d8e8e29f7f147fff6a2a0efd1</td>\n",
       "      <td>[@ryangoon, @brunch]</td>\n",
       "      <td>[]</td>\n",
       "    </tr>\n",
       "    <tr>\n",
       "      <th>4997</th>\n",
       "      <td>#c9862af1f4299a9c76b6727880bc1277</td>\n",
       "      <td>[@sehoon0311, @kakao-it, @alicemelbourne, @bud...</td>\n",
       "      <td>[]</td>\n",
       "    </tr>\n",
       "    <tr>\n",
       "      <th>4998</th>\n",
       "      <td>#634cea2ad0b7c810392347d8cad27ab1</td>\n",
       "      <td>[@msra81, @honeytip, @alicemelbourne, @hotelsc...</td>\n",
       "      <td>[]</td>\n",
       "    </tr>\n",
       "    <tr>\n",
       "      <th>4999</th>\n",
       "      <td>#66686ed88efe783fe0a6b8f69fa36a49</td>\n",
       "      <td>[@jade, @brunch]</td>\n",
       "      <td>[]</td>\n",
       "    </tr>\n",
       "  </tbody>\n",
       "</table>\n",
       "</div>"
      ],
      "text/plain": [
       "                                user_id  \\\n",
       "4995  #47edae20557b7cf114b9dbcbd28f93be   \n",
       "4996  #c57f417d8e8e29f7f147fff6a2a0efd1   \n",
       "4997  #c9862af1f4299a9c76b6727880bc1277   \n",
       "4998  #634cea2ad0b7c810392347d8cad27ab1   \n",
       "4999  #66686ed88efe783fe0a6b8f69fa36a49   \n",
       "\n",
       "                                         following_list keyword_list2  \n",
       "4995                   [@iamlived86, @mnb4237, @brunch]            []  \n",
       "4996                               [@ryangoon, @brunch]            []  \n",
       "4997  [@sehoon0311, @kakao-it, @alicemelbourne, @bud...            []  \n",
       "4998  [@msra81, @honeytip, @alicemelbourne, @hotelsc...            []  \n",
       "4999                                   [@jade, @brunch]            []  "
      ]
     },
     "execution_count": 98,
     "metadata": {},
     "output_type": "execute_result"
    }
   ],
   "source": [
    "test2.tail()"
   ]
  },
  {
   "cell_type": "code",
   "execution_count": 101,
   "metadata": {},
   "outputs": [
    {
     "data": {
      "text/html": [
       "<div>\n",
       "<style scoped>\n",
       "    .dataframe tbody tr th:only-of-type {\n",
       "        vertical-align: middle;\n",
       "    }\n",
       "\n",
       "    .dataframe tbody tr th {\n",
       "        vertical-align: top;\n",
       "    }\n",
       "\n",
       "    .dataframe thead th {\n",
       "        text-align: right;\n",
       "    }\n",
       "</style>\n",
       "<table border=\"1\" class=\"dataframe\">\n",
       "  <thead>\n",
       "    <tr style=\"text-align: right;\">\n",
       "      <th></th>\n",
       "      <th>user_id</th>\n",
       "      <th>following_list</th>\n",
       "      <th>keyword_list2</th>\n",
       "    </tr>\n",
       "  </thead>\n",
       "  <tbody>\n",
       "    <tr>\n",
       "      <th>579</th>\n",
       "      <td>#28f6ed60737aafe587e3ec4eb53b23db</td>\n",
       "      <td>NaN</td>\n",
       "      <td>NaN</td>\n",
       "    </tr>\n",
       "    <tr>\n",
       "      <th>943</th>\n",
       "      <td>#f6317132d17cbc7f365514118ab68ec5</td>\n",
       "      <td>NaN</td>\n",
       "      <td>NaN</td>\n",
       "    </tr>\n",
       "    <tr>\n",
       "      <th>1504</th>\n",
       "      <td>#4dfad4d56fa3863b75e8907ff5f8a149</td>\n",
       "      <td>NaN</td>\n",
       "      <td>NaN</td>\n",
       "    </tr>\n",
       "    <tr>\n",
       "      <th>1819</th>\n",
       "      <td>#6b3f9ae509f7ce1925b7db79cdc50bfb</td>\n",
       "      <td>NaN</td>\n",
       "      <td>NaN</td>\n",
       "    </tr>\n",
       "    <tr>\n",
       "      <th>1847</th>\n",
       "      <td>#270f067fec220d7ab9e36ba69f8b94d4</td>\n",
       "      <td>NaN</td>\n",
       "      <td>NaN</td>\n",
       "    </tr>\n",
       "    <tr>\n",
       "      <th>2449</th>\n",
       "      <td>#053e31c7b0443fc51b2dad5703fa43b8</td>\n",
       "      <td>NaN</td>\n",
       "      <td>NaN</td>\n",
       "    </tr>\n",
       "    <tr>\n",
       "      <th>3034</th>\n",
       "      <td>#95486f4120b5c8cbc1163e136d83cf5f</td>\n",
       "      <td>NaN</td>\n",
       "      <td>NaN</td>\n",
       "    </tr>\n",
       "    <tr>\n",
       "      <th>3128</th>\n",
       "      <td>#401a3c8ac295dc84a7f368d77aab03ab</td>\n",
       "      <td>NaN</td>\n",
       "      <td>NaN</td>\n",
       "    </tr>\n",
       "    <tr>\n",
       "      <th>3280</th>\n",
       "      <td>#d2d09d0a95c6929604fe9d2501e441b1</td>\n",
       "      <td>NaN</td>\n",
       "      <td>NaN</td>\n",
       "    </tr>\n",
       "    <tr>\n",
       "      <th>4426</th>\n",
       "      <td>#1355cc9f0fbee79c47b9e748d4718717</td>\n",
       "      <td>NaN</td>\n",
       "      <td>NaN</td>\n",
       "    </tr>\n",
       "    <tr>\n",
       "      <th>4631</th>\n",
       "      <td>#97beaa40c9fe59d955a1fb4a802d1605</td>\n",
       "      <td>NaN</td>\n",
       "      <td>NaN</td>\n",
       "    </tr>\n",
       "    <tr>\n",
       "      <th>4689</th>\n",
       "      <td>#3347311c4059a34fe7a576e28ac10218</td>\n",
       "      <td>NaN</td>\n",
       "      <td>NaN</td>\n",
       "    </tr>\n",
       "  </tbody>\n",
       "</table>\n",
       "</div>"
      ],
      "text/plain": [
       "                                user_id following_list keyword_list2\n",
       "579   #28f6ed60737aafe587e3ec4eb53b23db            NaN           NaN\n",
       "943   #f6317132d17cbc7f365514118ab68ec5            NaN           NaN\n",
       "1504  #4dfad4d56fa3863b75e8907ff5f8a149            NaN           NaN\n",
       "1819  #6b3f9ae509f7ce1925b7db79cdc50bfb            NaN           NaN\n",
       "1847  #270f067fec220d7ab9e36ba69f8b94d4            NaN           NaN\n",
       "2449  #053e31c7b0443fc51b2dad5703fa43b8            NaN           NaN\n",
       "3034  #95486f4120b5c8cbc1163e136d83cf5f            NaN           NaN\n",
       "3128  #401a3c8ac295dc84a7f368d77aab03ab            NaN           NaN\n",
       "3280  #d2d09d0a95c6929604fe9d2501e441b1            NaN           NaN\n",
       "4426  #1355cc9f0fbee79c47b9e748d4718717            NaN           NaN\n",
       "4631  #97beaa40c9fe59d955a1fb4a802d1605            NaN           NaN\n",
       "4689  #3347311c4059a34fe7a576e28ac10218            NaN           NaN"
      ]
     },
     "execution_count": 101,
     "metadata": {},
     "output_type": "execute_result"
    }
   ],
   "source": [
    "test2[test2['following_list'].isnull()]"
   ]
  },
  {
   "cell_type": "code",
   "execution_count": 117,
   "metadata": {},
   "outputs": [
    {
     "data": {
      "text/plain": [
       "579     #28f6ed60737aafe587e3ec4eb53b23db\n",
       "943     #f6317132d17cbc7f365514118ab68ec5\n",
       "1504    #4dfad4d56fa3863b75e8907ff5f8a149\n",
       "1819    #6b3f9ae509f7ce1925b7db79cdc50bfb\n",
       "1847    #270f067fec220d7ab9e36ba69f8b94d4\n",
       "2449    #053e31c7b0443fc51b2dad5703fa43b8\n",
       "3034    #95486f4120b5c8cbc1163e136d83cf5f\n",
       "3128    #401a3c8ac295dc84a7f368d77aab03ab\n",
       "3280    #d2d09d0a95c6929604fe9d2501e441b1\n",
       "4426    #1355cc9f0fbee79c47b9e748d4718717\n",
       "4631    #97beaa40c9fe59d955a1fb4a802d1605\n",
       "4689    #3347311c4059a34fe7a576e28ac10218\n",
       "Name: user_id, dtype: object"
      ]
     },
     "execution_count": 117,
     "metadata": {},
     "output_type": "execute_result"
    }
   ],
   "source": [
    "test2[test2['following_list'].isnull()]['user_id']"
   ]
  },
  {
   "cell_type": "code",
   "execution_count": 115,
   "metadata": {},
   "outputs": [],
   "source": [
    "tmp = list(users['user_id'])"
   ]
  },
  {
   "cell_type": "code",
   "execution_count": 123,
   "metadata": {},
   "outputs": [
    {
     "data": {
      "text/plain": [
       "310758"
      ]
     },
     "execution_count": 123,
     "metadata": {},
     "output_type": "execute_result"
    }
   ],
   "source": [
    "len(tmp)"
   ]
  },
  {
   "cell_type": "code",
   "execution_count": 124,
   "metadata": {},
   "outputs": [],
   "source": [
    "tmp2 = 0"
   ]
  },
  {
   "cell_type": "code",
   "execution_count": 125,
   "metadata": {},
   "outputs": [],
   "source": [
    "for i in range(0,310758):\n",
    "    tmp2 = tmp2 + sum(test2[test2['following_list'].isnull()]['user_id'] == tmp[i])"
   ]
  },
  {
   "cell_type": "code",
   "execution_count": 127,
   "metadata": {},
   "outputs": [
    {
     "data": {
      "text/plain": [
       "0"
      ]
     },
     "execution_count": 127,
     "metadata": {},
     "output_type": "execute_result"
    }
   ],
   "source": [
    "tmp2"
   ]
  },
  {
   "cell_type": "code",
   "execution_count": 133,
   "metadata": {},
   "outputs": [],
   "source": [
    "test_read = pd.merge(test,read,how='left',left_on='user_id',right_on='user_id')"
   ]
  },
  {
   "cell_type": "code",
   "execution_count": 134,
   "metadata": {},
   "outputs": [
    {
     "data": {
      "text/html": [
       "<div>\n",
       "<style scoped>\n",
       "    .dataframe tbody tr th:only-of-type {\n",
       "        vertical-align: middle;\n",
       "    }\n",
       "\n",
       "    .dataframe tbody tr th {\n",
       "        vertical-align: top;\n",
       "    }\n",
       "\n",
       "    .dataframe thead th {\n",
       "        text-align: right;\n",
       "    }\n",
       "</style>\n",
       "<table border=\"1\" class=\"dataframe\">\n",
       "  <thead>\n",
       "    <tr style=\"text-align: right;\">\n",
       "      <th></th>\n",
       "      <th>user_id</th>\n",
       "      <th>raw</th>\n",
       "      <th>dt</th>\n",
       "      <th>hr</th>\n",
       "      <th>article_id</th>\n",
       "    </tr>\n",
       "  </thead>\n",
       "  <tbody>\n",
       "    <tr>\n",
       "      <th>0</th>\n",
       "      <td>#7ee14df8642a7925b1465ff5c89efe5b</td>\n",
       "      <td>#7ee14df8642a7925b1465ff5c89efe5b @seungyae613...</td>\n",
       "      <td>20190210</td>\n",
       "      <td>22</td>\n",
       "      <td>@seungyae613_22 @namgizaa_46 @connerstoneiqvk_...</td>\n",
       "    </tr>\n",
       "    <tr>\n",
       "      <th>1</th>\n",
       "      <td>#7ee14df8642a7925b1465ff5c89efe5b</td>\n",
       "      <td>#7ee14df8642a7925b1465ff5c89efe5b @thinktoomuc...</td>\n",
       "      <td>20190219</td>\n",
       "      <td>18</td>\n",
       "      <td>@thinktoomuch_63</td>\n",
       "    </tr>\n",
       "    <tr>\n",
       "      <th>2</th>\n",
       "      <td>#7ee14df8642a7925b1465ff5c89efe5b</td>\n",
       "      <td>#7ee14df8642a7925b1465ff5c89efe5b @thinktoomuc...</td>\n",
       "      <td>20190219</td>\n",
       "      <td>19</td>\n",
       "      <td>@thinktoomuch_63</td>\n",
       "    </tr>\n",
       "    <tr>\n",
       "      <th>3</th>\n",
       "      <td>#7ee14df8642a7925b1465ff5c89efe5b</td>\n",
       "      <td>#7ee14df8642a7925b1465ff5c89efe5b @thinktoomuc...</td>\n",
       "      <td>20190220</td>\n",
       "      <td>12</td>\n",
       "      <td>@thinktoomuch_80 @kyungajgba_60 @tenbody_1684 ...</td>\n",
       "    </tr>\n",
       "    <tr>\n",
       "      <th>4</th>\n",
       "      <td>#7ee14df8642a7925b1465ff5c89efe5b</td>\n",
       "      <td>#7ee14df8642a7925b1465ff5c89efe5b @infinitolee...</td>\n",
       "      <td>20190220</td>\n",
       "      <td>17</td>\n",
       "      <td>@infinitolee_70</td>\n",
       "    </tr>\n",
       "  </tbody>\n",
       "</table>\n",
       "</div>"
      ],
      "text/plain": [
       "                             user_id  \\\n",
       "0  #7ee14df8642a7925b1465ff5c89efe5b   \n",
       "1  #7ee14df8642a7925b1465ff5c89efe5b   \n",
       "2  #7ee14df8642a7925b1465ff5c89efe5b   \n",
       "3  #7ee14df8642a7925b1465ff5c89efe5b   \n",
       "4  #7ee14df8642a7925b1465ff5c89efe5b   \n",
       "\n",
       "                                                 raw        dt  hr  \\\n",
       "0  #7ee14df8642a7925b1465ff5c89efe5b @seungyae613...  20190210  22   \n",
       "1  #7ee14df8642a7925b1465ff5c89efe5b @thinktoomuc...  20190219  18   \n",
       "2  #7ee14df8642a7925b1465ff5c89efe5b @thinktoomuc...  20190219  19   \n",
       "3  #7ee14df8642a7925b1465ff5c89efe5b @thinktoomuc...  20190220  12   \n",
       "4  #7ee14df8642a7925b1465ff5c89efe5b @infinitolee...  20190220  17   \n",
       "\n",
       "                                          article_id  \n",
       "0  @seungyae613_22 @namgizaa_46 @connerstoneiqvk_...  \n",
       "1                                   @thinktoomuch_63  \n",
       "2                                   @thinktoomuch_63  \n",
       "3  @thinktoomuch_80 @kyungajgba_60 @tenbody_1684 ...  \n",
       "4                                    @infinitolee_70  "
      ]
     },
     "execution_count": 134,
     "metadata": {},
     "output_type": "execute_result"
    }
   ],
   "source": [
    "test_read.head()"
   ]
  },
  {
   "cell_type": "code",
   "execution_count": 136,
   "metadata": {},
   "outputs": [
    {
     "data": {
      "text/plain": [
       "0"
      ]
     },
     "execution_count": 136,
     "metadata": {},
     "output_type": "execute_result"
    }
   ],
   "source": [
    "sum(test_read['article_id'].isnull())"
   ]
  },
  {
   "cell_type": "markdown",
   "metadata": {},
   "source": [
    "### g. dev.users"
   ]
  },
  {
   "cell_type": "code",
   "execution_count": 128,
   "metadata": {},
   "outputs": [],
   "source": [
    "dev = pd.read_csv(directory + 'predict/test.users', header = None,names = ['user_id'])"
   ]
  },
  {
   "cell_type": "code",
   "execution_count": 129,
   "metadata": {},
   "outputs": [
    {
     "data": {
      "text/html": [
       "<div>\n",
       "<style scoped>\n",
       "    .dataframe tbody tr th:only-of-type {\n",
       "        vertical-align: middle;\n",
       "    }\n",
       "\n",
       "    .dataframe tbody tr th {\n",
       "        vertical-align: top;\n",
       "    }\n",
       "\n",
       "    .dataframe thead th {\n",
       "        text-align: right;\n",
       "    }\n",
       "</style>\n",
       "<table border=\"1\" class=\"dataframe\">\n",
       "  <thead>\n",
       "    <tr style=\"text-align: right;\">\n",
       "      <th></th>\n",
       "      <th>user_id</th>\n",
       "    </tr>\n",
       "  </thead>\n",
       "  <tbody>\n",
       "    <tr>\n",
       "      <th>0</th>\n",
       "      <td>#7ee14df8642a7925b1465ff5c89efe5b</td>\n",
       "    </tr>\n",
       "    <tr>\n",
       "      <th>1</th>\n",
       "      <td>#8420b9385b282028eebf1ad6b4a221c0</td>\n",
       "    </tr>\n",
       "    <tr>\n",
       "      <th>2</th>\n",
       "      <td>#c9b31d8b64357f5854b1ba55b32eb6d3</td>\n",
       "    </tr>\n",
       "    <tr>\n",
       "      <th>3</th>\n",
       "      <td>#9bb1e13b5481fa3737af20870b25c723</td>\n",
       "    </tr>\n",
       "    <tr>\n",
       "      <th>4</th>\n",
       "      <td>#37d5f99a7f12c9ba90c4e2ac92e54ab6</td>\n",
       "    </tr>\n",
       "  </tbody>\n",
       "</table>\n",
       "</div>"
      ],
      "text/plain": [
       "                             user_id\n",
       "0  #7ee14df8642a7925b1465ff5c89efe5b\n",
       "1  #8420b9385b282028eebf1ad6b4a221c0\n",
       "2  #c9b31d8b64357f5854b1ba55b32eb6d3\n",
       "3  #9bb1e13b5481fa3737af20870b25c723\n",
       "4  #37d5f99a7f12c9ba90c4e2ac92e54ab6"
      ]
     },
     "execution_count": 129,
     "metadata": {},
     "output_type": "execute_result"
    }
   ],
   "source": [
    "dev.head()"
   ]
  },
  {
   "cell_type": "code",
   "execution_count": 130,
   "metadata": {},
   "outputs": [],
   "source": [
    "dev2 = pd.merge(dev,users,how='left',left_on='user_id',right_on='user_id')"
   ]
  },
  {
   "cell_type": "code",
   "execution_count": 131,
   "metadata": {},
   "outputs": [
    {
     "data": {
      "text/html": [
       "<div>\n",
       "<style scoped>\n",
       "    .dataframe tbody tr th:only-of-type {\n",
       "        vertical-align: middle;\n",
       "    }\n",
       "\n",
       "    .dataframe tbody tr th {\n",
       "        vertical-align: top;\n",
       "    }\n",
       "\n",
       "    .dataframe thead th {\n",
       "        text-align: right;\n",
       "    }\n",
       "</style>\n",
       "<table border=\"1\" class=\"dataframe\">\n",
       "  <thead>\n",
       "    <tr style=\"text-align: right;\">\n",
       "      <th></th>\n",
       "      <th>user_id</th>\n",
       "      <th>following_list</th>\n",
       "      <th>keyword_list2</th>\n",
       "    </tr>\n",
       "  </thead>\n",
       "  <tbody>\n",
       "    <tr>\n",
       "      <th>0</th>\n",
       "      <td>#7ee14df8642a7925b1465ff5c89efe5b</td>\n",
       "      <td>[@avecrhae, @gongdae-unni, @jhcharm1, @travel-...</td>\n",
       "      <td>[]</td>\n",
       "    </tr>\n",
       "    <tr>\n",
       "      <th>1</th>\n",
       "      <td>#8420b9385b282028eebf1ad6b4a221c0</td>\n",
       "      <td>[@jhj3211, @ohuk2011, @heat0508, @sssfriend, @...</td>\n",
       "      <td>[]</td>\n",
       "    </tr>\n",
       "    <tr>\n",
       "      <th>2</th>\n",
       "      <td>#c9b31d8b64357f5854b1ba55b32eb6d3</td>\n",
       "      <td>[@marso123, @forhappywomen, @kimpyogo, @brunch]</td>\n",
       "      <td>[]</td>\n",
       "    </tr>\n",
       "    <tr>\n",
       "      <th>3</th>\n",
       "      <td>#9bb1e13b5481fa3737af20870b25c723</td>\n",
       "      <td>[@moonjakga, @aemae-human, @tamarorim, @syshin...</td>\n",
       "      <td>[]</td>\n",
       "    </tr>\n",
       "    <tr>\n",
       "      <th>4</th>\n",
       "      <td>#37d5f99a7f12c9ba90c4e2ac92e54ab6</td>\n",
       "      <td>[@oms1225, @dryjshin, @roysday, @hanuuri, @cyy...</td>\n",
       "      <td>[]</td>\n",
       "    </tr>\n",
       "  </tbody>\n",
       "</table>\n",
       "</div>"
      ],
      "text/plain": [
       "                             user_id  \\\n",
       "0  #7ee14df8642a7925b1465ff5c89efe5b   \n",
       "1  #8420b9385b282028eebf1ad6b4a221c0   \n",
       "2  #c9b31d8b64357f5854b1ba55b32eb6d3   \n",
       "3  #9bb1e13b5481fa3737af20870b25c723   \n",
       "4  #37d5f99a7f12c9ba90c4e2ac92e54ab6   \n",
       "\n",
       "                                      following_list keyword_list2  \n",
       "0  [@avecrhae, @gongdae-unni, @jhcharm1, @travel-...            []  \n",
       "1  [@jhj3211, @ohuk2011, @heat0508, @sssfriend, @...            []  \n",
       "2    [@marso123, @forhappywomen, @kimpyogo, @brunch]            []  \n",
       "3  [@moonjakga, @aemae-human, @tamarorim, @syshin...            []  \n",
       "4  [@oms1225, @dryjshin, @roysday, @hanuuri, @cyy...            []  "
      ]
     },
     "execution_count": 131,
     "metadata": {},
     "output_type": "execute_result"
    }
   ],
   "source": [
    "dev2.head()"
   ]
  },
  {
   "cell_type": "code",
   "execution_count": 132,
   "metadata": {},
   "outputs": [
    {
     "data": {
      "text/html": [
       "<div>\n",
       "<style scoped>\n",
       "    .dataframe tbody tr th:only-of-type {\n",
       "        vertical-align: middle;\n",
       "    }\n",
       "\n",
       "    .dataframe tbody tr th {\n",
       "        vertical-align: top;\n",
       "    }\n",
       "\n",
       "    .dataframe thead th {\n",
       "        text-align: right;\n",
       "    }\n",
       "</style>\n",
       "<table border=\"1\" class=\"dataframe\">\n",
       "  <thead>\n",
       "    <tr style=\"text-align: right;\">\n",
       "      <th></th>\n",
       "      <th>user_id</th>\n",
       "      <th>following_list</th>\n",
       "      <th>keyword_list2</th>\n",
       "    </tr>\n",
       "  </thead>\n",
       "  <tbody>\n",
       "    <tr>\n",
       "      <th>579</th>\n",
       "      <td>#28f6ed60737aafe587e3ec4eb53b23db</td>\n",
       "      <td>NaN</td>\n",
       "      <td>NaN</td>\n",
       "    </tr>\n",
       "    <tr>\n",
       "      <th>943</th>\n",
       "      <td>#f6317132d17cbc7f365514118ab68ec5</td>\n",
       "      <td>NaN</td>\n",
       "      <td>NaN</td>\n",
       "    </tr>\n",
       "    <tr>\n",
       "      <th>1504</th>\n",
       "      <td>#4dfad4d56fa3863b75e8907ff5f8a149</td>\n",
       "      <td>NaN</td>\n",
       "      <td>NaN</td>\n",
       "    </tr>\n",
       "    <tr>\n",
       "      <th>1819</th>\n",
       "      <td>#6b3f9ae509f7ce1925b7db79cdc50bfb</td>\n",
       "      <td>NaN</td>\n",
       "      <td>NaN</td>\n",
       "    </tr>\n",
       "    <tr>\n",
       "      <th>1847</th>\n",
       "      <td>#270f067fec220d7ab9e36ba69f8b94d4</td>\n",
       "      <td>NaN</td>\n",
       "      <td>NaN</td>\n",
       "    </tr>\n",
       "    <tr>\n",
       "      <th>2449</th>\n",
       "      <td>#053e31c7b0443fc51b2dad5703fa43b8</td>\n",
       "      <td>NaN</td>\n",
       "      <td>NaN</td>\n",
       "    </tr>\n",
       "    <tr>\n",
       "      <th>3034</th>\n",
       "      <td>#95486f4120b5c8cbc1163e136d83cf5f</td>\n",
       "      <td>NaN</td>\n",
       "      <td>NaN</td>\n",
       "    </tr>\n",
       "    <tr>\n",
       "      <th>3128</th>\n",
       "      <td>#401a3c8ac295dc84a7f368d77aab03ab</td>\n",
       "      <td>NaN</td>\n",
       "      <td>NaN</td>\n",
       "    </tr>\n",
       "    <tr>\n",
       "      <th>3280</th>\n",
       "      <td>#d2d09d0a95c6929604fe9d2501e441b1</td>\n",
       "      <td>NaN</td>\n",
       "      <td>NaN</td>\n",
       "    </tr>\n",
       "    <tr>\n",
       "      <th>4426</th>\n",
       "      <td>#1355cc9f0fbee79c47b9e748d4718717</td>\n",
       "      <td>NaN</td>\n",
       "      <td>NaN</td>\n",
       "    </tr>\n",
       "    <tr>\n",
       "      <th>4631</th>\n",
       "      <td>#97beaa40c9fe59d955a1fb4a802d1605</td>\n",
       "      <td>NaN</td>\n",
       "      <td>NaN</td>\n",
       "    </tr>\n",
       "    <tr>\n",
       "      <th>4689</th>\n",
       "      <td>#3347311c4059a34fe7a576e28ac10218</td>\n",
       "      <td>NaN</td>\n",
       "      <td>NaN</td>\n",
       "    </tr>\n",
       "  </tbody>\n",
       "</table>\n",
       "</div>"
      ],
      "text/plain": [
       "                                user_id following_list keyword_list2\n",
       "579   #28f6ed60737aafe587e3ec4eb53b23db            NaN           NaN\n",
       "943   #f6317132d17cbc7f365514118ab68ec5            NaN           NaN\n",
       "1504  #4dfad4d56fa3863b75e8907ff5f8a149            NaN           NaN\n",
       "1819  #6b3f9ae509f7ce1925b7db79cdc50bfb            NaN           NaN\n",
       "1847  #270f067fec220d7ab9e36ba69f8b94d4            NaN           NaN\n",
       "2449  #053e31c7b0443fc51b2dad5703fa43b8            NaN           NaN\n",
       "3034  #95486f4120b5c8cbc1163e136d83cf5f            NaN           NaN\n",
       "3128  #401a3c8ac295dc84a7f368d77aab03ab            NaN           NaN\n",
       "3280  #d2d09d0a95c6929604fe9d2501e441b1            NaN           NaN\n",
       "4426  #1355cc9f0fbee79c47b9e748d4718717            NaN           NaN\n",
       "4631  #97beaa40c9fe59d955a1fb4a802d1605            NaN           NaN\n",
       "4689  #3347311c4059a34fe7a576e28ac10218            NaN           NaN"
      ]
     },
     "execution_count": 132,
     "metadata": {},
     "output_type": "execute_result"
    }
   ],
   "source": [
    "dev2[dev2['following_list'].isnull()]"
   ]
  },
  {
   "cell_type": "code",
   "execution_count": null,
   "metadata": {},
   "outputs": [],
   "source": []
  }
 ],
 "metadata": {
  "kernelspec": {
   "display_name": "Python 3",
   "language": "python",
   "name": "python3"
  },
  "language_info": {
   "codemirror_mode": {
    "name": "ipython",
    "version": 3
   },
   "file_extension": ".py",
   "mimetype": "text/x-python",
   "name": "python",
   "nbconvert_exporter": "python",
   "pygments_lexer": "ipython3",
   "version": "3.7.3"
  }
 },
 "nbformat": 4,
 "nbformat_minor": 2
}
